{
 "cells": [
  {
   "cell_type": "markdown",
   "metadata": {},
   "source": [
    "Script di bawah ini berfungsi untuk mengunduh dan memasang library yang diperlukan untuk pengolahan citra, analisis data, visualisasi, dan machine learning."
   ]
  },
  {
   "cell_type": "code",
   "execution_count": 1,
   "metadata": {},
   "outputs": [
    {
     "name": "stdout",
     "output_type": "stream",
     "text": [
      "Requirement already satisfied: scikit-learn in c:\\users\\advan\\appdata\\local\\programs\\python\\python313\\lib\\site-packages (1.6.1)\n",
      "Requirement already satisfied: scikit-image in c:\\users\\advan\\appdata\\local\\programs\\python\\python313\\lib\\site-packages (0.25.2)\n",
      "Requirement already satisfied: scipy in c:\\users\\advan\\appdata\\local\\programs\\python\\python313\\lib\\site-packages (1.15.3)\n",
      "Requirement already satisfied: seaborn in c:\\users\\advan\\appdata\\local\\programs\\python\\python313\\lib\\site-packages (0.13.2)\n",
      "Requirement already satisfied: matplotlib in c:\\users\\advan\\appdata\\local\\programs\\python\\python313\\lib\\site-packages (3.10.1)\n",
      "Requirement already satisfied: numpy in c:\\users\\advan\\appdata\\local\\programs\\python\\python313\\lib\\site-packages (2.2.5)\n",
      "Requirement already satisfied: opencv-python in c:\\users\\advan\\appdata\\local\\programs\\python\\python313\\lib\\site-packages (4.11.0.86)\n",
      "Requirement already satisfied: pandas in c:\\users\\advan\\appdata\\local\\programs\\python\\python313\\lib\\site-packages (2.2.3)\n",
      "Requirement already satisfied: joblib>=1.2.0 in c:\\users\\advan\\appdata\\local\\programs\\python\\python313\\lib\\site-packages (from scikit-learn) (1.5.1)\n",
      "Requirement already satisfied: threadpoolctl>=3.1.0 in c:\\users\\advan\\appdata\\local\\programs\\python\\python313\\lib\\site-packages (from scikit-learn) (3.6.0)\n",
      "Requirement already satisfied: networkx>=3.0 in c:\\users\\advan\\appdata\\local\\programs\\python\\python313\\lib\\site-packages (from scikit-image) (3.4.2)\n",
      "Requirement already satisfied: pillow>=10.1 in c:\\users\\advan\\appdata\\local\\programs\\python\\python313\\lib\\site-packages (from scikit-image) (11.2.1)\n",
      "Requirement already satisfied: imageio!=2.35.0,>=2.33 in c:\\users\\advan\\appdata\\local\\programs\\python\\python313\\lib\\site-packages (from scikit-image) (2.37.0)\n",
      "Requirement already satisfied: tifffile>=2022.8.12 in c:\\users\\advan\\appdata\\local\\programs\\python\\python313\\lib\\site-packages (from scikit-image) (2025.5.26)\n",
      "Requirement already satisfied: packaging>=21 in c:\\users\\advan\\appdata\\roaming\\python\\python313\\site-packages (from scikit-image) (24.2)\n",
      "Requirement already satisfied: lazy-loader>=0.4 in c:\\users\\advan\\appdata\\local\\programs\\python\\python313\\lib\\site-packages (from scikit-image) (0.4)\n",
      "Requirement already satisfied: contourpy>=1.0.1 in c:\\users\\advan\\appdata\\local\\programs\\python\\python313\\lib\\site-packages (from matplotlib) (1.3.2)\n",
      "Requirement already satisfied: cycler>=0.10 in c:\\users\\advan\\appdata\\local\\programs\\python\\python313\\lib\\site-packages (from matplotlib) (0.12.1)\n",
      "Requirement already satisfied: fonttools>=4.22.0 in c:\\users\\advan\\appdata\\local\\programs\\python\\python313\\lib\\site-packages (from matplotlib) (4.57.0)\n",
      "Requirement already satisfied: kiwisolver>=1.3.1 in c:\\users\\advan\\appdata\\local\\programs\\python\\python313\\lib\\site-packages (from matplotlib) (1.4.8)\n",
      "Requirement already satisfied: pyparsing>=2.3.1 in c:\\users\\advan\\appdata\\local\\programs\\python\\python313\\lib\\site-packages (from matplotlib) (3.2.3)\n",
      "Requirement already satisfied: python-dateutil>=2.7 in c:\\users\\advan\\appdata\\roaming\\python\\python313\\site-packages (from matplotlib) (2.9.0.post0)\n",
      "Requirement already satisfied: pytz>=2020.1 in c:\\users\\advan\\appdata\\local\\programs\\python\\python313\\lib\\site-packages (from pandas) (2025.2)\n",
      "Requirement already satisfied: tzdata>=2022.7 in c:\\users\\advan\\appdata\\local\\programs\\python\\python313\\lib\\site-packages (from pandas) (2025.2)\n",
      "Requirement already satisfied: six>=1.5 in c:\\users\\advan\\appdata\\roaming\\python\\python313\\site-packages (from python-dateutil>=2.7->matplotlib) (1.17.0)\n",
      "Note: you may need to restart the kernel to use updated packages.\n"
     ]
    },
    {
     "name": "stderr",
     "output_type": "stream",
     "text": [
      "\n",
      "[notice] A new release of pip is available: 25.0.1 -> 25.1.1\n",
      "[notice] To update, run: python.exe -m pip install --upgrade pip\n"
     ]
    }
   ],
   "source": [
    "pip install scikit-learn scikit-image scipy seaborn matplotlib numpy opencv-python pandas"
   ]
  },
  {
   "cell_type": "code",
   "execution_count": 2,
   "metadata": {},
   "outputs": [],
   "source": [
    "# Import library yang kalian butuhkan\n",
    "import os\n",
    "import cv2 as cv\n",
    "import matplotlib.pyplot as plt\n",
    "import numpy as np\n",
    "import pandas as pd\n",
    "from sklearn.model_selection import train_test_split, cross_val_predict\n",
    "from sklearn.metrics import accuracy_score, classification_report\n",
    "from skimage.feature import graycomatrix, graycoprops\n",
    "from scipy.stats import entropy\n",
    "from sklearn.ensemble import RandomForestClassifier\n",
    "from sklearn.svm import SVC\n",
    "from sklearn.neighbors import KNeighborsClassifier\n",
    "from sklearn.metrics import accuracy_score, precision_score, recall_score, f1_score, confusion_matrix, classification_report\n",
    "from sklearn.metrics import (confusion_matrix, ConfusionMatrixDisplay)\n",
    "import seaborn as sns"
   ]
  },
  {
   "cell_type": "markdown",
   "metadata": {},
   "source": [
    "Script di atas digunakan untuk mengimpor berbagai library yang diperlukan dalam project pengolahan citra dan machine learning. Library seperti `os` digunakan untuk mengelola file dan folder, `cv2` (OpenCV) untuk membaca dan memproses citra, `matplotlib.pyplot` dan seaborn untuk visualisasi data dan grafik, serta `numpy` dan pandas untuk manipulasi data numerik dan tabel. Selain itu, berbagai modul dari scikit-learn diimpor untuk membagi data, membangun model klasifikasi (Random Forest, SVM, KNN), serta melakukan evaluasi model menggunakan metrik seperti akurasi, precision, recall, f1-score, dan confusion matrix. Library `skimage.feature` digunakan untuk ekstraksi fitur tekstur citra, sedangkan `scipy.stats` menyediakan fungsi statistik seperti entropy. Seluruh library ini saling melengkapi untuk mendukung proses analisis, pelatihan, dan evaluasi model klasifikasi citra digital."
   ]
  },
  {
   "cell_type": "markdown",
   "metadata": {},
   "source": [
    "## Data Loading"
   ]
  },
  {
   "cell_type": "markdown",
   "metadata": {},
   "source": [
    "Buat struktur folder dataset sebagai berikut:\n",
    "```\n",
    ".\n",
    "└──dataset\n",
    "    ├── label1\n",
    "\t├── image1.jpg\n",
    "\t├── image2.jpg\n",
    "\t└── image3.jpg\n",
    "    ├── label2\n",
    "    └── label3\n",
    "    └── dst...\n",
    "```"
   ]
  },
  {
   "cell_type": "code",
   "execution_count": 3,
   "metadata": {},
   "outputs": [],
   "source": [
    "data_awal = []\n",
    "labels = []\n",
    "file_name = []\n",
    "\n",
    "for sub_folder in os.listdir(\"dataset\\\\\"):\n",
    "    sub_folder_files = os.listdir(os.path.join(\"dataset\\\\\", sub_folder))\n",
    "    for i, filename in enumerate(sub_folder_files):\n",
    "        img_path = os.path.join(\"dataset\\\\\", sub_folder, filename)\n",
    "        img = cv.imread(img_path)\n",
    "\n",
    "        if img is None:\n",
    "            print(f\"Gagal membaca gambar: {img_path}\")\n",
    "            continue\n",
    "        \n",
    "        img = img.astype(np.uint8)\n",
    "        img = cv.cvtColor(img, cv.COLOR_BGR2GRAY)\n",
    "        img = cv.resize(img, (256, 700))  \n",
    "        \n",
    "        data_awal.append(img)\n",
    "        labels.append(sub_folder)\n",
    "        name = os.path.splitext(filename)[0]\n",
    "        file_name.append(filename)\n",
    "\n",
    "data_awal = np.array(data_awal)\n",
    "labels = np.array(labels)\n",
    "\n",
    "data_augmented = []\n",
    "labels_augmented = []\n",
    "paths_augmented = []\n",
    "file_name_augmented = []\n",
    "for i in range(len(data_awal)):\n",
    "\tpass\n",
    "\n"
   ]
  },
  {
   "cell_type": "markdown",
   "metadata": {},
   "source": [
    "Script di atas digunakan untuk memuat seluruh gambar dari folder dataset yang sudah dikelompokkan berdasarkan labelnya. Setiap gambar dibaca dari subfolder, kemudian dikonversi ke format grayscale dan diubah ukurannya menjadi 256x700 piksel agar seragam. Nama file dan label dari setiap gambar juga disimpan ke dalam list. Seluruh data gambar, label, dan nama file kemudian diubah menjadi array numpy agar mudah diproses pada tahap selanjutnya. Selain itu, kode juga menyiapkan variabel untuk data augmentasi, meskipun proses augmentasi belum diimplementasikan pada bagian ini."
   ]
  },
  {
   "cell_type": "markdown",
   "metadata": {},
   "source": [
    "# Augmentasi\n"
   ]
  },
  {
   "cell_type": "code",
   "execution_count": 4,
   "metadata": {},
   "outputs": [],
   "source": [
    "# def augment_flip(img: np.ndarray) -> np.ndarray:\n",
    "#     return cv.flip(img, 1)          \n",
    "\n",
    "# target_per_label = 100\n",
    "\n",
    "# label2idx = {}\n",
    "# for idx, lab in enumerate(labels):\n",
    "#     label2idx.setdefault(lab, []).append(idx)\n",
    "\n",
    "# for lab, idx_list in label2idx.items():\n",
    "#     existing = len(idx_list)                       \n",
    "#     need = target_per_label - existing          \n",
    "#     for n in range(need):\n",
    "#         base_idx  = idx_list[n % existing]         \n",
    "#         base_img  = data_awal[base_idx]\n",
    "#         aug_img   = augment_flip(base_img)       \n",
    "\n",
    "#         data_augmented.append(aug_img)\n",
    "#         labels_augmented.append(lab)\n",
    "\n",
    "#         new_name = f\"{lab}_flip{n:04d}.png\"\n",
    "#         file_name_augmented.append(new_name)\n",
    "#         paths_augmented.append(\n",
    "#             os.path.join(\"dataset_aug\", lab, new_name))\n",
    "\n",
    "# data_final   = np.concatenate([data_awal, np.array(data_augmented)], axis=0)\n",
    "# labels_final = np.concatenate([labels,     np.array(labels_augmented)], axis=0)\n",
    "# file_name_final = np.concatenate([file_name, np.array(file_name_augmented)], axis=0)\n",
    "# print(\"Data sebelum augmentasi :\", len(data_awal))   # 142\n",
    "# print(\"Data setelah augmentasi :\", len(data_final)) # 200\n"
   ]
  },
  {
   "cell_type": "markdown",
   "metadata": {},
   "source": [
    "## Data Preparation"
   ]
  },
  {
   "cell_type": "markdown",
   "metadata": {},
   "source": [
    "### Define Preprocessing Function\n"
   ]
  },
  {
   "cell_type": "code",
   "execution_count": 5,
   "metadata": {},
   "outputs": [],
   "source": [
    "# def resize_grayscale_image(gambar_gray, tinggi_tujuan=700, lebar_tujuan=280):\n",
    "\n",
    "#     baris, kolom = gambar_gray.shape[:2]\n",
    "#     resized = np.zeros((tinggi_tujuan, lebar_tujuan), dtype=np.uint8)\n",
    "\n",
    "#     skala_tinggi = baris / tinggi_tujuan\n",
    "#     skala_lebar = kolom / lebar_tujuan\n",
    "\n",
    "#     for i in range(tinggi_tujuan):\n",
    "#         for j in range(lebar_tujuan):\n",
    "#             src_i = min(int(i * skala_tinggi), baris - 1)\n",
    "#             src_j = min(int(j * skala_lebar), kolom - 1)\n",
    "#             resized[i, j] = gambar_gray[src_i, src_j]\n",
    "\n",
    "#     return resized\n",
    "\n",
    "def histogram_equalization(img):\n",
    "    hist = np.zeros(256, dtype=int)\n",
    "    for i in range(img.shape[0]):\n",
    "        for j in range(img.shape[1]):\n",
    "            hist[img[i, j]] += 1\n",
    "    cdf = hist.cumsum()\n",
    "    cdf_normalized = ((cdf - cdf.min()) * 255 / (cdf.max() - cdf.min())).astype(np.uint8)\n",
    "    equalized = np.zeros_like(img)\n",
    "    for i in range(img.shape[0]):\n",
    "        for j in range(img.shape[1]):\n",
    "            equalized[i, j] = cdf_normalized[img[i, j]]\n",
    "    return equalized\n",
    "\n",
    "def median_filter(image, ksize):\n",
    "    pad = ksize // 2\n",
    "    padded = np.pad(image, pad, mode='edge')\n",
    "    output = np.zeros_like(image)\n",
    "    for i in range(image.shape[0]):\n",
    "        for j in range(image.shape[1]):\n",
    "            window = padded[i:i+ksize, j:j+ksize]\n",
    "            median_val = np.median(window)\n",
    "            output[i, j] = median_val\n",
    "    return output\n",
    "\n",
    "def dilation(img):\n",
    "    dilated = np.zeros_like(img)\n",
    "    padded = np.pad(img, 1, mode='constant')\n",
    "    for i in range(img.shape[0]):\n",
    "        for j in range(img.shape[1]):\n",
    "            neighborhood = padded[i:i+3, j:j+3]\n",
    "            dilated[i, j] = np.max(neighborhood)\n",
    "    return dilated\n",
    "\n",
    "def thresholding(img, threshold):\n",
    "    result = np.zeros_like(img, dtype=np.uint8)\n",
    "    for i in range(img.shape[0]):\n",
    "        for j in range(img.shape[1]):\n",
    "            if img[i, j] >= threshold:\n",
    "                result[i, j] = 255\n",
    "            else:\n",
    "                result[i, j] = 0\n",
    "    return result\n",
    "\n",
    "def erosion(img):\n",
    "    eroded = np.zeros_like(img)\n",
    "    padded = np.pad(img, 1, mode='constant')\n",
    "    for i in range(img.shape[0]):\n",
    "        for j in range(img.shape[1]):\n",
    "            neighborhood = padded[i:i+3, j:j+3]\n",
    "            eroded[i, j] = np.min(neighborhood)\n",
    "    return eroded\n",
    "\n",
    "def opening(img):\n",
    "    eroded = erosion(img)\n",
    "    opened = dilation(eroded)\n",
    "    return opened\n"
   ]
  },
  {
   "cell_type": "markdown",
   "metadata": {},
   "source": [
    "Script di atas digunakan untuk melakukan preprocessing pada citra sebelum tahap ekstraksi fitur. Fungsi histogram_equalization bertujuan untuk meningkatkan kontras citra dengan menyamakan distribusi intensitas piksel, sehingga detail pada gambar menjadi lebih jelas. Fungsi median_filter digunakan untuk mengurangi noise pada citra dengan mengganti setiap piksel dengan nilai median dari lingkungan sekitarnya, sehingga citra menjadi lebih bersih tanpa mengaburkan tepi objek. Sedangkan fungsi dilation berfungsi untuk memperbesar area objek terang pada citra, sehingga fitur-fitur penting menjadi lebih menonjol dan celah-celah kecil pada objek dapat tertutup. Ketiga proses ini sangat penting agar citra yang diolah pada tahap selanjutnya memiliki kualitas yang baik dan fitur yang dihasilkan lebih representatif.\n",
    "\n"
   ]
  },
  {
   "cell_type": "markdown",
   "metadata": {},
   "source": [
    "### Preprocessing"
   ]
  },
  {
   "cell_type": "code",
   "execution_count": 6,
   "metadata": {},
   "outputs": [],
   "source": [
    "preprocessed_data = []\n",
    "\n",
    "for img in data_awal:\n",
    "    img_eq = histogram_equalization(img)       \n",
    "    img_med = median_filter(img_eq, ksize=3)    \n",
    "    # img_dil = dilation(img_med)\n",
    "    thres_img = thresholding(img_med, 87)\n",
    "    img_dil = opening(thres_img)\n",
    "    preprocessed_data.append(img_dil)\n",
    "\n",
    "preprocessed_data = np.array(preprocessed_data)"
   ]
  },
  {
   "cell_type": "markdown",
   "metadata": {},
   "source": [
    "### Feature Extraction"
   ]
  },
  {
   "cell_type": "code",
   "execution_count": 7,
   "metadata": {},
   "outputs": [],
   "source": [
    "def glcm(image, derajat):\n",
    "    if derajat == 0:\n",
    "        angles = [0]\n",
    "    elif derajat == 45:\n",
    "        angles = [np.pi / 4]\n",
    "    elif derajat == 90:\n",
    "        angles = [np.pi / 2]\n",
    "    elif derajat == 135:\n",
    "        angles = [3 * np.pi / 4]\n",
    "    else:\n",
    "        raise ValueError(\"Invalid angle. It should be one of the following: 0, 45, 90, 135.\")\n",
    "    \n",
    "    # mengembalikan matrix glcm dari image\n",
    "    glcm = graycomatrix(image, [1], angles, 256, symmetric=True, normed=True)\n",
    "    return glcm"
   ]
  },
  {
   "cell_type": "markdown",
   "metadata": {},
   "source": [
    "Fungsi `glcm` di atas digunakan untuk menghitung matriks GLCM (Gray Level Co-occurrence Matrix) dari sebuah citra grayscale pada sudut tertentu (0, 45, 90, atau 135 derajat). Fungsi ini akan menentukan sudut berdasarkan input, lalu memanggil `graycomatrix` dari library skimage untuk menghasilkan matriks GLCM dengan jarak 1 piksel, 256 level keabuan, simetris, dan ternormalisasi. Matriks GLCM ini nantinya digunakan untuk ekstraksi fitur tekstur citra seperti kontras, homogenitas, dan lainnya."
   ]
  },
  {
   "cell_type": "code",
   "execution_count": 8,
   "metadata": {},
   "outputs": [],
   "source": [
    "def correlation(matriks):\n",
    "\treturn graycoprops(matriks, 'correlation')[0, 0]"
   ]
  },
  {
   "cell_type": "markdown",
   "metadata": {},
   "source": [
    "Fungsi `correlation` di atas digunakan untuk menghitung nilai korelasi dari matriks GLCM (Gray Level Co-occurrence Matrix) yang diberikan sebagai input. Fungsi ini memanfaatkan `graycoprops` dari library skimage untuk mengambil properti correlation, lalu mengembalikan nilai korelasi pada posisi [0, 0] dari hasil tersebut. Nilai korelasi ini menggambarkan tingkat hubungan linier antara piksel-piksel pada citra dan sering digunakan sebagai salah satu fitur tekstur dalam analisis citra."
   ]
  },
  {
   "cell_type": "code",
   "execution_count": 9,
   "metadata": {},
   "outputs": [],
   "source": [
    "def dissimilarity(matriks):\n",
    "    return graycoprops(matriks, 'dissimilarity')[0, 0]"
   ]
  },
  {
   "cell_type": "markdown",
   "metadata": {},
   "source": [
    "Fungsi `dissimilarity` di atas digunakan untuk menghitung nilai dissimilarity dari matriks GLCM (Gray Level Co-occurrence Matrix) yang diberikan sebagai input. Fungsi ini memanfaatkan `graycoprops` dari library skimage untuk mengambil properti 'dissimilarity', lalu mengembalikan nilai pada posisi [0, 0]. Nilai dissimilarity ini menggambarkan tingkat perbedaan intensitas antara pasangan piksel pada citra dan sering digunakan sebagai salah satu fitur tekstur dalam analisis citra."
   ]
  },
  {
   "cell_type": "code",
   "execution_count": 10,
   "metadata": {},
   "outputs": [],
   "source": [
    "def homogenity(matriks):\n",
    "    return graycoprops(matriks, 'homogeneity')[0, 0]"
   ]
  },
  {
   "cell_type": "markdown",
   "metadata": {},
   "source": [
    "Fungsi `homogenity` di atas digunakan untuk menghitung nilai homogenitas dari matriks GLCM (Gray Level Co-occurrence Matrix) yang diberikan sebagai input. Fungsi ini memanfaatkan `graycoprops` dari library skimage untuk mengambil properti 'homogeneity', lalu mengembalikan nilai pada posisi [0, 0]. Nilai homogenitas ini menunjukkan seberapa seragam atau mirip nilai intensitas antar piksel pada citra, dan sering digunakan sebagai salah satu fitur tekstur dalam analisis citra."
   ]
  },
  {
   "cell_type": "code",
   "execution_count": 11,
   "metadata": {},
   "outputs": [],
   "source": [
    "def contrast(matriks):\n",
    "    return graycoprops(matriks, 'contrast')[0, 0]"
   ]
  },
  {
   "cell_type": "markdown",
   "metadata": {},
   "source": [
    "Fungsi `contrast` di atas digunakan untuk menghitung nilai kontras dari matriks GLCM (Gray Level Co-occurrence Matrix) yang diberikan sebagai input. Fungsi ini memanfaatkan `graycoprops` dari library skimage untuk mengambil properti 'contrast', lalu mengembalikan nilai pada posisi [0, 0]. Nilai kontras ini menunjukkan perbedaan intensitas antara piksel-piksel pada citra dan sering digunakan sebagai salah satu fitur tekstur dalam analisis citra."
   ]
  },
  {
   "cell_type": "code",
   "execution_count": 12,
   "metadata": {},
   "outputs": [],
   "source": [
    "def ASM(matriks):\n",
    "    return graycoprops(matriks, 'ASM')[0, 0]"
   ]
  },
  {
   "cell_type": "markdown",
   "metadata": {},
   "source": [
    "Fungsi `ASM` di atas digunakan untuk menghitung nilai ASM (Angular Second Moment) dari matriks GLCM (Gray Level Co-occurrence Matrix) yang diberikan sebagai input. Fungsi ini memanfaatkan `graycoprops` dari library skimage untuk mengambil properti 'ASM', lalu mengembalikan nilai pada posisi [0, 0]. Nilai ASM ini menunjukkan tingkat keseragaman atau konsistensi tekstur pada citra, di mana nilai yang tinggi menandakan tekstur yang lebih seragam."
   ]
  },
  {
   "cell_type": "code",
   "execution_count": 13,
   "metadata": {},
   "outputs": [],
   "source": [
    "def energy(matriks):\n",
    "    return graycoprops(matriks, 'energy')[0, 0]"
   ]
  },
  {
   "cell_type": "markdown",
   "metadata": {},
   "source": [
    "Fungsi `energy` di atas digunakan untuk menghitung nilai energy dari matriks GLCM (Gray Level Co-occurrence Matrix) yang diberikan sebagai input. Fungsi ini memanfaatkan `graycoprops` dari library skimage untuk mengambil properti 'energy', lalu mengembalikan nilai pada posisi [0, 0]. Nilai energy ini menunjukkan tingkat keseragaman tekstur pada citra, di mana nilai yang tinggi menandakan tekstur yang lebih seragam."
   ]
  },
  {
   "cell_type": "code",
   "execution_count": 14,
   "metadata": {},
   "outputs": [],
   "source": [
    "def entropyGlcm(matriks):\n",
    "    return entropy(matriks.ravel())"
   ]
  },
  {
   "cell_type": "markdown",
   "metadata": {},
   "source": [
    "Fungsi `entropyGlcm` di atas digunakan untuk menghitung nilai entropi dari matriks GLCM (Gray Level Co-occurrence Matrix) yang diberikan sebagai input. Fungsi ini menggunakan `entropy` dari `scipy.stats` pada matriks yang telah diratakan (flattened) menjadi satu dimensi dengan `.ravel()`. Nilai entropi ini menggambarkan tingkat ketidakpastian atau kompleksitas tekstur pada citra; semakin tinggi nilai entropi, semakin kompleks tekstur citra tersebut."
   ]
  },
  {
   "cell_type": "code",
   "execution_count": 15,
   "metadata": {},
   "outputs": [],
   "source": [
    "Derajat0 = []\n",
    "Derajat45 = []\n",
    "Derajat90 = []\n",
    "Derajat135 = []\n",
    "for i in range(len(preprocessed_data)):\n",
    "    D0 = glcm(preprocessed_data[i], 0)\n",
    "    D45 = glcm(preprocessed_data[i], 45)\n",
    "    D90 = glcm(preprocessed_data[i], 90)\n",
    "    D135 = glcm(preprocessed_data[i], 135)\n",
    "    Derajat0.append(D0)\n",
    "    Derajat45.append(D45)\n",
    "    Derajat90.append(D90)\n",
    "    Derajat135.append(D135)"
   ]
  },
  {
   "cell_type": "markdown",
   "metadata": {},
   "source": [
    "Script di atas digunakan untuk menghitung matriks GLCM (Gray Level Co-occurrence Matrix) dari setiap gambar hasil preprocessing pada empat sudut berbeda, yaitu 0°, 45°, 90°, dan 135°. Setiap gambar diproses satu per satu, lalu hasil GLCM untuk masing-masing sudut disimpan ke dalam list yang berbeda (Derajat0, Derajat45, Derajat90, Derajat135). Dengan cara ini, kita bisa mendapatkan informasi tekstur citra dari berbagai arah sehingga fitur yang diekstrak menjadi lebih lengkap dan representatif.\n"
   ]
  },
  {
   "cell_type": "code",
   "execution_count": 16,
   "metadata": {},
   "outputs": [],
   "source": [
    "Kontras0, Kontras45, Kontras90, Kontras135 = [], [], [], []\n",
    "dissimilarity0, dissimilarity45, dissimilarity90, dissimilarity135 =  [], [], [], []\n",
    "homogenity0, homogenity45, homogenity90, homogenity135 = [], [], [], []\n",
    "entropy0, entropy45, entropy90, entropy135 =  [], [], [], []\n",
    "ASM0, ASM45, ASM90, ASM135 =  [], [], [], []\n",
    "energy0, energy45, energy90, energy135 =  [], [], [], []\n",
    "correlation0, correlation45, correlation90, correlation135 = [], [], [], []\n"
   ]
  },
  {
   "cell_type": "markdown",
   "metadata": {},
   "source": [
    "Script di atas digunakan untuk menyiapkan list kosong yang akan menampung hasil ekstraksi berbagai fitur tekstur dari matriks GLCM pada empat sudut berbeda (0°, 45°, 90°, dan 135°). Setiap fitur seperti kontras, dissimilarity, homogenitas, entropi, ASM, energi, dan korelasi akan memiliki empat list sesuai sudutnya, sehingga hasil ekstraksi dari setiap gambar dan setiap sudut bisa disimpan secara terpisah dan terstruktur sebelum nantinya digabungkan ke dalam tabel fitur."
   ]
  },
  {
   "cell_type": "code",
   "execution_count": 17,
   "metadata": {},
   "outputs": [],
   "source": [
    "for i in range(len(preprocessed_data)):\n",
    "    C0 = correlation(Derajat0[i])\n",
    "    correlation0.append(C0)\n",
    "    C45 = correlation(Derajat45[i])\n",
    "    correlation45.append(C45)\n",
    "    C90 = correlation(Derajat90[i])\n",
    "    correlation90.append(C90)\n",
    "    C135 = correlation(Derajat135[i])\n",
    "    correlation135.append(C135)"
   ]
  },
  {
   "cell_type": "markdown",
   "metadata": {},
   "source": [
    "Script di atas digunakan untuk menghitung nilai fitur korelasi dari matriks GLCM pada setiap sudut (0°, 45°, 90°, dan 135°) untuk seluruh gambar hasil preprocessing. Pada setiap iterasi, fungsi correlation dipanggil untuk masing-masing matriks GLCM (Derajat0, Derajat45, Derajat90, Derajat135) dan hasilnya dimasukkan ke dalam list yang sesuai (correlation0, correlation45, correlation90, correlation135). Dengan cara ini, setiap gambar akan memiliki nilai korelasi tekstur dari empat arah yang berbeda, yang nantinya digunakan sebagai fitur dalam proses analisis atau klasifikasi citra."
   ]
  },
  {
   "cell_type": "code",
   "execution_count": 18,
   "metadata": {},
   "outputs": [],
   "source": [
    "for i in range(len(data_awal)):\n",
    "    K0 = contrast(Derajat0[i])\n",
    "    K45 = contrast(Derajat45[i])\n",
    "    K90 = contrast(Derajat90[i])\n",
    "    K135 = contrast(Derajat135[i])\n",
    "    Kontras0.append(K0)\n",
    "    Kontras45.append(K45)\n",
    "    Kontras90.append(K90)\n",
    "    Kontras135.append(K135)"
   ]
  },
  {
   "cell_type": "markdown",
   "metadata": {},
   "source": [
    "Script di atas digunakan untuk menghitung nilai fitur kontras dari matriks GLCM pada setiap sudut (0°, 45°, 90°, dan 135°) untuk seluruh gambar yang ada di data_awal. Pada setiap iterasi, fungsi contrast dipanggil untuk masing-masing matriks GLCM (Derajat0, Derajat45, Derajat90, Derajat135) dan hasilnya dimasukkan ke dalam list yang sesuai (Kontras0, Kontras45, Kontras90, Kontras135). Dengan cara ini, setiap gambar akan memiliki nilai kontras tekstur dari empat arah berbeda, yang nantinya digunakan sebagai fitur dalam proses analisis atau klasifikasi citra."
   ]
  },
  {
   "cell_type": "code",
   "execution_count": 19,
   "metadata": {},
   "outputs": [],
   "source": [
    "for i in range(len(data_awal)):\n",
    "    Dis0 = dissimilarity(Derajat0[i])\n",
    "    Dis45 = dissimilarity(Derajat45[i])\n",
    "    Dis90 = dissimilarity(Derajat90[i])\n",
    "    Dis135 = dissimilarity(Derajat135[i])\n",
    "    dissimilarity0.append(Dis0)\n",
    "    dissimilarity45.append(Dis45)\n",
    "    dissimilarity90.append(Dis90)\n",
    "    dissimilarity135.append(Dis135)"
   ]
  },
  {
   "cell_type": "markdown",
   "metadata": {},
   "source": [
    "Script di atas digunakan untuk menghitung nilai fitur dissimilarity dari matriks GLCM pada setiap sudut (0°, 45°, 90°, dan 135°) untuk seluruh gambar yang ada di data_awal. Pada setiap iterasi, fungsi dissimilarity dipanggil untuk masing-masing matriks GLCM (Derajat0, Derajat45, Derajat90, Derajat135) dan hasilnya dimasukkan ke dalam list yang sesuai (dissimilarity0, dissimilarity45, dissimilarity90, dissimilarity135). Dengan cara ini, setiap gambar akan memiliki nilai dissimilarity tekstur dari empat arah berbeda, yang nantinya digunakan sebagai fitur dalam proses analisis atau klasifikasi citra."
   ]
  },
  {
   "cell_type": "code",
   "execution_count": 20,
   "metadata": {},
   "outputs": [],
   "source": [
    "for i in range(len(data_awal)):\n",
    "    H0 = homogenity(Derajat0[i])\n",
    "    H45 = homogenity(Derajat45[i])\n",
    "    H90 = homogenity(Derajat90[i])\n",
    "    H135 = homogenity(Derajat135[i])\n",
    "    homogenity0.append(H0)\n",
    "    homogenity45.append(H45)\n",
    "    homogenity90.append(H90)\n",
    "    homogenity135.append(H135)"
   ]
  },
  {
   "cell_type": "markdown",
   "metadata": {},
   "source": [
    "Script di atas Kode tersebut digunakan untuk menghitung nilai fitur homogenitas dari matriks GLCM pada setiap sudut (0°, 45°, 90°, dan 135°) untuk seluruh gambar yang ada di data_awal. Pada setiap iterasi, fungsi `homogenity` dipanggil untuk masing-masing matriks GLCM (Derajat0, Derajat45, Derajat90, Derajat135) dan hasilnya dimasukkan ke dalam list yang sesuai (homogenity0, homogenity45, homogenity90, homogenity135). Dengan cara ini, setiap gambar akan memiliki nilai homogenitas tekstur dari empat arah berbeda, yang nantinya digunakan sebagai fitur dalam proses analisis atau klasifikasi citra."
   ]
  },
  {
   "cell_type": "code",
   "execution_count": 21,
   "metadata": {},
   "outputs": [],
   "source": [
    "for i in range(len(data_awal)):  \n",
    "    E0 = entropyGlcm(Derajat0[i])\n",
    "    E45 = entropyGlcm(Derajat45[i])\n",
    "    E90 = entropyGlcm(Derajat90[i])\n",
    "    E135 = entropyGlcm(Derajat135[i])\n",
    "    entropy0.append(E0)\n",
    "    entropy45.append(E45)\n",
    "    entropy90.append(E90)\n",
    "    entropy135.append(E135)"
   ]
  },
  {
   "cell_type": "markdown",
   "metadata": {},
   "source": [
    "Script di atas digunakan untuk menghitung nilai fitur entropi dari matriks GLCM pada setiap sudut (0°, 45°, 90°, dan 135°) untuk seluruh gambar yang ada di `data_awal`. Pada setiap iterasi, fungsi `entropyGlcm` dipanggil untuk masing-masing matriks GLCM (Derajat0, Derajat45, Derajat90, Derajat135) dan hasilnya dimasukkan ke dalam list yang sesuai (entropy0, entropy45, entropy90, entropy135). Dengan cara ini, setiap gambar akan memiliki nilai entropi tekstur dari empat arah berbeda, yang nantinya digunakan sebagai fitur dalam proses analisis atau klasifikasi citra."
   ]
  },
  {
   "cell_type": "code",
   "execution_count": 22,
   "metadata": {},
   "outputs": [],
   "source": [
    "for i in range(len(data_awal)):\n",
    "    A0 = ASM(Derajat0[i])\n",
    "    A45 = ASM(Derajat45[i])\n",
    "    A90 = ASM(Derajat90[i])\n",
    "    A135 = ASM(Derajat135[i])\n",
    "    ASM0.append(A0)\n",
    "    ASM45.append(A45)\n",
    "    ASM90.append(A90)\n",
    "    ASM135.append(A135)"
   ]
  },
  {
   "cell_type": "markdown",
   "metadata": {},
   "source": [
    "Script di atas digunakan untuk menghitung nilai fitur ASM (Angular Second Moment) dari matriks GLCM pada setiap sudut (0°, 45°, 90°, dan 135°) untuk seluruh gambar yang ada di `data_awal`. Pada setiap iterasi, fungsi `ASM` dipanggil untuk masing-masing matriks GLCM (Derajat0, Derajat45, Derajat90, Derajat135) dan hasilnya dimasukkan ke dalam list yang sesuai (ASM0, ASM45, ASM90, ASM135). Dengan cara ini, setiap gambar akan memiliki nilai ASM tekstur dari empat arah berbeda, yang nantinya digunakan sebagai fitur dalam proses analisis atau klasifikasi citra."
   ]
  },
  {
   "cell_type": "code",
   "execution_count": 23,
   "metadata": {},
   "outputs": [],
   "source": [
    "for i in range(len(data_awal)):\n",
    "    ER0 = energy(Derajat0[i])\n",
    "    ER45 = energy(Derajat45[i])\n",
    "    ER90 = energy(Derajat90[i])\n",
    "    ER135 = energy(Derajat135[i])\n",
    "    energy0.append(ER0)\n",
    "    energy45.append(ER45)\n",
    "    energy90.append(ER90)\n",
    "    energy135.append(ER135)"
   ]
  },
  {
   "cell_type": "markdown",
   "metadata": {},
   "source": [
    "Script di atas digunakan untuk menghitung nilai fitur energy dari matriks GLCM pada setiap sudut (0°, 45°, 90°, dan 135°) untuk seluruh gambar yang ada di `data_awal`. Pada setiap iterasi, fungsi `energy` dipanggil untuk masing-masing matriks GLCM (Derajat0, Derajat45, Derajat90, Derajat135) dan hasilnya dimasukkan ke dalam list yang sesuai (energy0, energy45, energy90, energy135). Dengan cara ini, setiap gambar akan memiliki nilai energy tekstur dari empat arah berbeda, yang nantinya digunakan sebagai fitur dalam proses analisis atau klasifikasi citra."
   ]
  },
  {
   "cell_type": "markdown",
   "metadata": {},
   "source": [
    "### Write the extraction's results to CSV "
   ]
  },
  {
   "cell_type": "markdown",
   "metadata": {},
   "source": [
    "Script di bawah di gunakan untuk membuat sebuah dictionary `dataTable` yang berisi seluruh fitur hasil ekstraksi tekstur GLCM (seperti Contrast, Homogeneity, Dissimilarity, Entropy, ASM, Energy, Correlation) dari empat sudut berbeda (0°, 45°, 90°, 135°) beserta nama file dan labelnya. Dictionary ini kemudian dikonversi menjadi DataFrame pandas dan disimpan ke file CSV bernama `hasil_ekstraksi_1.csv`. Setelah itu, file CSV dibaca kembali ke dalam DataFrame hasilEkstrak untuk ditampilkan atau digunakan pada proses selanjutnya (misal seleksi fitur atau pelatihan model)."
   ]
  },
  {
   "cell_type": "code",
   "execution_count": 24,
   "metadata": {},
   "outputs": [
    {
     "data": {
      "text/html": [
       "<div>\n",
       "<style scoped>\n",
       "    .dataframe tbody tr th:only-of-type {\n",
       "        vertical-align: middle;\n",
       "    }\n",
       "\n",
       "    .dataframe tbody tr th {\n",
       "        vertical-align: top;\n",
       "    }\n",
       "\n",
       "    .dataframe thead th {\n",
       "        text-align: right;\n",
       "    }\n",
       "</style>\n",
       "<table border=\"1\" class=\"dataframe\">\n",
       "  <thead>\n",
       "    <tr style=\"text-align: right;\">\n",
       "      <th></th>\n",
       "      <th>Filename</th>\n",
       "      <th>Label</th>\n",
       "      <th>Contrast0</th>\n",
       "      <th>Contrast45</th>\n",
       "      <th>Contrast90</th>\n",
       "      <th>Contrast135</th>\n",
       "      <th>Homogeneity0</th>\n",
       "      <th>Homogeneity45</th>\n",
       "      <th>Homogeneity90</th>\n",
       "      <th>Homogeneity135</th>\n",
       "      <th>...</th>\n",
       "      <th>ASM90</th>\n",
       "      <th>ASM135</th>\n",
       "      <th>Energy0</th>\n",
       "      <th>Energy45</th>\n",
       "      <th>Energy90</th>\n",
       "      <th>Energy135</th>\n",
       "      <th>Correlation0</th>\n",
       "      <th>Correlation45</th>\n",
       "      <th>Correlation90</th>\n",
       "      <th>Correlation135</th>\n",
       "    </tr>\n",
       "  </thead>\n",
       "  <tbody>\n",
       "    <tr>\n",
       "      <th>0</th>\n",
       "      <td>N1,N,40,M_1_0.jpg</td>\n",
       "      <td>NormalFinal</td>\n",
       "      <td>737.678571</td>\n",
       "      <td>1291.416309</td>\n",
       "      <td>956.784385</td>\n",
       "      <td>1223.197425</td>\n",
       "      <td>0.988656</td>\n",
       "      <td>0.980140</td>\n",
       "      <td>0.985286</td>\n",
       "      <td>0.981189</td>\n",
       "      <td>...</td>\n",
       "      <td>0.538112</td>\n",
       "      <td>0.534626</td>\n",
       "      <td>0.736201</td>\n",
       "      <td>0.730490</td>\n",
       "      <td>0.733561</td>\n",
       "      <td>0.731181</td>\n",
       "      <td>0.974609</td>\n",
       "      <td>0.955562</td>\n",
       "      <td>0.967111</td>\n",
       "      <td>0.957909</td>\n",
       "    </tr>\n",
       "    <tr>\n",
       "      <th>1</th>\n",
       "      <td>N1,N,F,21_1_0.jpg</td>\n",
       "      <td>NormalFinal</td>\n",
       "      <td>984.664286</td>\n",
       "      <td>1669.721030</td>\n",
       "      <td>1183.898035</td>\n",
       "      <td>1498.626609</td>\n",
       "      <td>0.984857</td>\n",
       "      <td>0.974322</td>\n",
       "      <td>0.981793</td>\n",
       "      <td>0.976953</td>\n",
       "      <td>...</td>\n",
       "      <td>0.531886</td>\n",
       "      <td>0.528098</td>\n",
       "      <td>0.731907</td>\n",
       "      <td>0.724978</td>\n",
       "      <td>0.729305</td>\n",
       "      <td>0.726704</td>\n",
       "      <td>0.966304</td>\n",
       "      <td>0.942860</td>\n",
       "      <td>0.959562</td>\n",
       "      <td>0.948715</td>\n",
       "    </tr>\n",
       "    <tr>\n",
       "      <th>2</th>\n",
       "      <td>N11,N,F,26_1_0.jpg</td>\n",
       "      <td>NormalFinal</td>\n",
       "      <td>917.271429</td>\n",
       "      <td>1687.596567</td>\n",
       "      <td>1348.510009</td>\n",
       "      <td>1734.291845</td>\n",
       "      <td>0.985894</td>\n",
       "      <td>0.974047</td>\n",
       "      <td>0.979262</td>\n",
       "      <td>0.973329</td>\n",
       "      <td>...</td>\n",
       "      <td>0.531546</td>\n",
       "      <td>0.526433</td>\n",
       "      <td>0.733935</td>\n",
       "      <td>0.726026</td>\n",
       "      <td>0.729072</td>\n",
       "      <td>0.725557</td>\n",
       "      <td>0.968472</td>\n",
       "      <td>0.942018</td>\n",
       "      <td>0.953724</td>\n",
       "      <td>0.940414</td>\n",
       "    </tr>\n",
       "    <tr>\n",
       "      <th>3</th>\n",
       "      <td>N12,N,F,14_1_0.jpg</td>\n",
       "      <td>NormalFinal</td>\n",
       "      <td>779.935714</td>\n",
       "      <td>1409.613734</td>\n",
       "      <td>1110.494903</td>\n",
       "      <td>1415.450644</td>\n",
       "      <td>0.988006</td>\n",
       "      <td>0.978322</td>\n",
       "      <td>0.982922</td>\n",
       "      <td>0.978233</td>\n",
       "      <td>...</td>\n",
       "      <td>0.535481</td>\n",
       "      <td>0.531579</td>\n",
       "      <td>0.735586</td>\n",
       "      <td>0.729154</td>\n",
       "      <td>0.731766</td>\n",
       "      <td>0.729095</td>\n",
       "      <td>0.973171</td>\n",
       "      <td>0.951517</td>\n",
       "      <td>0.961857</td>\n",
       "      <td>0.951316</td>\n",
       "    </tr>\n",
       "    <tr>\n",
       "      <th>4</th>\n",
       "      <td>N12,N,M,13_1_0.jpg</td>\n",
       "      <td>NormalFinal</td>\n",
       "      <td>858.621429</td>\n",
       "      <td>1375.321888</td>\n",
       "      <td>1061.074973</td>\n",
       "      <td>1445.364807</td>\n",
       "      <td>0.986796</td>\n",
       "      <td>0.978850</td>\n",
       "      <td>0.983682</td>\n",
       "      <td>0.977773</td>\n",
       "      <td>...</td>\n",
       "      <td>0.535503</td>\n",
       "      <td>0.530681</td>\n",
       "      <td>0.734531</td>\n",
       "      <td>0.729185</td>\n",
       "      <td>0.731781</td>\n",
       "      <td>0.728478</td>\n",
       "      <td>0.970488</td>\n",
       "      <td>0.952745</td>\n",
       "      <td>0.963612</td>\n",
       "      <td>0.950338</td>\n",
       "    </tr>\n",
       "    <tr>\n",
       "      <th>...</th>\n",
       "      <td>...</td>\n",
       "      <td>...</td>\n",
       "      <td>...</td>\n",
       "      <td>...</td>\n",
       "      <td>...</td>\n",
       "      <td>...</td>\n",
       "      <td>...</td>\n",
       "      <td>...</td>\n",
       "      <td>...</td>\n",
       "      <td>...</td>\n",
       "      <td>...</td>\n",
       "      <td>...</td>\n",
       "      <td>...</td>\n",
       "      <td>...</td>\n",
       "      <td>...</td>\n",
       "      <td>...</td>\n",
       "      <td>...</td>\n",
       "      <td>...</td>\n",
       "      <td>...</td>\n",
       "      <td>...</td>\n",
       "      <td>...</td>\n",
       "    </tr>\n",
       "    <tr>\n",
       "      <th>137</th>\n",
       "      <td>N90, Rt TAIS, F, 14 Yrs.jpg</td>\n",
       "      <td>ScolFinal</td>\n",
       "      <td>1162.071429</td>\n",
       "      <td>1524.892704</td>\n",
       "      <td>925.170165</td>\n",
       "      <td>1546.781116</td>\n",
       "      <td>0.982129</td>\n",
       "      <td>0.976549</td>\n",
       "      <td>0.985772</td>\n",
       "      <td>0.976213</td>\n",
       "      <td>...</td>\n",
       "      <td>0.537343</td>\n",
       "      <td>0.528848</td>\n",
       "      <td>0.730741</td>\n",
       "      <td>0.727440</td>\n",
       "      <td>0.733037</td>\n",
       "      <td>0.727220</td>\n",
       "      <td>0.960150</td>\n",
       "      <td>0.947646</td>\n",
       "      <td>0.968286</td>\n",
       "      <td>0.946895</td>\n",
       "    </tr>\n",
       "    <tr>\n",
       "      <th>138</th>\n",
       "      <td>N91, Rt TAIS, M, 15 Yrs.jpg</td>\n",
       "      <td>ScolFinal</td>\n",
       "      <td>936.942857</td>\n",
       "      <td>1281.931330</td>\n",
       "      <td>831.054268</td>\n",
       "      <td>1349.420601</td>\n",
       "      <td>0.985591</td>\n",
       "      <td>0.980286</td>\n",
       "      <td>0.987220</td>\n",
       "      <td>0.979248</td>\n",
       "      <td>...</td>\n",
       "      <td>0.535569</td>\n",
       "      <td>0.528448</td>\n",
       "      <td>0.731034</td>\n",
       "      <td>0.727630</td>\n",
       "      <td>0.731826</td>\n",
       "      <td>0.726944</td>\n",
       "      <td>0.968078</td>\n",
       "      <td>0.956309</td>\n",
       "      <td>0.971713</td>\n",
       "      <td>0.954009</td>\n",
       "    </tr>\n",
       "    <tr>\n",
       "      <th>139</th>\n",
       "      <td>N94, Rt TAIS, F, 15 Yrs.jpg</td>\n",
       "      <td>ScolFinal</td>\n",
       "      <td>1547.121429</td>\n",
       "      <td>2357.017167</td>\n",
       "      <td>1655.567664</td>\n",
       "      <td>2453.326180</td>\n",
       "      <td>0.976208</td>\n",
       "      <td>0.963753</td>\n",
       "      <td>0.974540</td>\n",
       "      <td>0.962272</td>\n",
       "      <td>...</td>\n",
       "      <td>0.524675</td>\n",
       "      <td>0.513915</td>\n",
       "      <td>0.725534</td>\n",
       "      <td>0.717834</td>\n",
       "      <td>0.724344</td>\n",
       "      <td>0.716878</td>\n",
       "      <td>0.947171</td>\n",
       "      <td>0.919410</td>\n",
       "      <td>0.943486</td>\n",
       "      <td>0.916117</td>\n",
       "    </tr>\n",
       "    <tr>\n",
       "      <th>140</th>\n",
       "      <td>N98, Rt TAIS, F, 14 Yrs.jpg</td>\n",
       "      <td>ScolFinal</td>\n",
       "      <td>871.371429</td>\n",
       "      <td>1338.111588</td>\n",
       "      <td>989.125369</td>\n",
       "      <td>1459.592275</td>\n",
       "      <td>0.986600</td>\n",
       "      <td>0.979422</td>\n",
       "      <td>0.984789</td>\n",
       "      <td>0.977554</td>\n",
       "      <td>...</td>\n",
       "      <td>0.535128</td>\n",
       "      <td>0.528744</td>\n",
       "      <td>0.733042</td>\n",
       "      <td>0.728375</td>\n",
       "      <td>0.731524</td>\n",
       "      <td>0.727148</td>\n",
       "      <td>0.970183</td>\n",
       "      <td>0.954200</td>\n",
       "      <td>0.966189</td>\n",
       "      <td>0.950042</td>\n",
       "    </tr>\n",
       "    <tr>\n",
       "      <th>141</th>\n",
       "      <td>N99, Rt TAIS, F, 17 Yrs.jpg</td>\n",
       "      <td>ScolFinal</td>\n",
       "      <td>1237.478571</td>\n",
       "      <td>1737.575107</td>\n",
       "      <td>1145.016178</td>\n",
       "      <td>1833.154506</td>\n",
       "      <td>0.980969</td>\n",
       "      <td>0.973279</td>\n",
       "      <td>0.982391</td>\n",
       "      <td>0.971809</td>\n",
       "      <td>...</td>\n",
       "      <td>0.527647</td>\n",
       "      <td>0.518276</td>\n",
       "      <td>0.725664</td>\n",
       "      <td>0.720878</td>\n",
       "      <td>0.726393</td>\n",
       "      <td>0.719914</td>\n",
       "      <td>0.958150</td>\n",
       "      <td>0.941184</td>\n",
       "      <td>0.961304</td>\n",
       "      <td>0.937949</td>\n",
       "    </tr>\n",
       "  </tbody>\n",
       "</table>\n",
       "<p>142 rows × 30 columns</p>\n",
       "</div>"
      ],
      "text/plain": [
       "                        Filename        Label    Contrast0   Contrast45  \\\n",
       "0              N1,N,40,M_1_0.jpg  NormalFinal   737.678571  1291.416309   \n",
       "1              N1,N,F,21_1_0.jpg  NormalFinal   984.664286  1669.721030   \n",
       "2             N11,N,F,26_1_0.jpg  NormalFinal   917.271429  1687.596567   \n",
       "3             N12,N,F,14_1_0.jpg  NormalFinal   779.935714  1409.613734   \n",
       "4             N12,N,M,13_1_0.jpg  NormalFinal   858.621429  1375.321888   \n",
       "..                           ...          ...          ...          ...   \n",
       "137  N90, Rt TAIS, F, 14 Yrs.jpg    ScolFinal  1162.071429  1524.892704   \n",
       "138  N91, Rt TAIS, M, 15 Yrs.jpg    ScolFinal   936.942857  1281.931330   \n",
       "139  N94, Rt TAIS, F, 15 Yrs.jpg    ScolFinal  1547.121429  2357.017167   \n",
       "140  N98, Rt TAIS, F, 14 Yrs.jpg    ScolFinal   871.371429  1338.111588   \n",
       "141  N99, Rt TAIS, F, 17 Yrs.jpg    ScolFinal  1237.478571  1737.575107   \n",
       "\n",
       "      Contrast90  Contrast135  Homogeneity0  Homogeneity45  Homogeneity90  \\\n",
       "0     956.784385  1223.197425      0.988656       0.980140       0.985286   \n",
       "1    1183.898035  1498.626609      0.984857       0.974322       0.981793   \n",
       "2    1348.510009  1734.291845      0.985894       0.974047       0.979262   \n",
       "3    1110.494903  1415.450644      0.988006       0.978322       0.982922   \n",
       "4    1061.074973  1445.364807      0.986796       0.978850       0.983682   \n",
       "..           ...          ...           ...            ...            ...   \n",
       "137   925.170165  1546.781116      0.982129       0.976549       0.985772   \n",
       "138   831.054268  1349.420601      0.985591       0.980286       0.987220   \n",
       "139  1655.567664  2453.326180      0.976208       0.963753       0.974540   \n",
       "140   989.125369  1459.592275      0.986600       0.979422       0.984789   \n",
       "141  1145.016178  1833.154506      0.980969       0.973279       0.982391   \n",
       "\n",
       "     Homogeneity135  ...     ASM90    ASM135   Energy0  Energy45  Energy90  \\\n",
       "0          0.981189  ...  0.538112  0.534626  0.736201  0.730490  0.733561   \n",
       "1          0.976953  ...  0.531886  0.528098  0.731907  0.724978  0.729305   \n",
       "2          0.973329  ...  0.531546  0.526433  0.733935  0.726026  0.729072   \n",
       "3          0.978233  ...  0.535481  0.531579  0.735586  0.729154  0.731766   \n",
       "4          0.977773  ...  0.535503  0.530681  0.734531  0.729185  0.731781   \n",
       "..              ...  ...       ...       ...       ...       ...       ...   \n",
       "137        0.976213  ...  0.537343  0.528848  0.730741  0.727440  0.733037   \n",
       "138        0.979248  ...  0.535569  0.528448  0.731034  0.727630  0.731826   \n",
       "139        0.962272  ...  0.524675  0.513915  0.725534  0.717834  0.724344   \n",
       "140        0.977554  ...  0.535128  0.528744  0.733042  0.728375  0.731524   \n",
       "141        0.971809  ...  0.527647  0.518276  0.725664  0.720878  0.726393   \n",
       "\n",
       "     Energy135  Correlation0  Correlation45  Correlation90  Correlation135  \n",
       "0     0.731181      0.974609       0.955562       0.967111        0.957909  \n",
       "1     0.726704      0.966304       0.942860       0.959562        0.948715  \n",
       "2     0.725557      0.968472       0.942018       0.953724        0.940414  \n",
       "3     0.729095      0.973171       0.951517       0.961857        0.951316  \n",
       "4     0.728478      0.970488       0.952745       0.963612        0.950338  \n",
       "..         ...           ...            ...            ...             ...  \n",
       "137   0.727220      0.960150       0.947646       0.968286        0.946895  \n",
       "138   0.726944      0.968078       0.956309       0.971713        0.954009  \n",
       "139   0.716878      0.947171       0.919410       0.943486        0.916117  \n",
       "140   0.727148      0.970183       0.954200       0.966189        0.950042  \n",
       "141   0.719914      0.958150       0.941184       0.961304        0.937949  \n",
       "\n",
       "[142 rows x 30 columns]"
      ]
     },
     "execution_count": 24,
     "metadata": {},
     "output_type": "execute_result"
    }
   ],
   "source": [
    "dataTable = {'Filename': file_name, 'Label': labels,\n",
    "        'Contrast0': Kontras0, 'Contrast45': Kontras45, 'Contrast90': Kontras90, 'Contrast135': Kontras135,\n",
    "        'Homogeneity0': homogenity0, 'Homogeneity45': homogenity45, 'Homogeneity90': homogenity90, 'Homogeneity135': homogenity135,\n",
    "        'Dissimilarity0': dissimilarity0, 'Dissimilarity45': dissimilarity45, 'Dissimilarity90': dissimilarity90, 'Dissimilarity135': dissimilarity135,\n",
    "        'Entropy0': entropy0, 'Entropy45': entropy45, 'Entropy90': entropy90, 'Entropy135': entropy135,\n",
    "        'ASM0': ASM0, 'ASM45': ASM45, 'ASM90': ASM90, 'ASM135': ASM135,\n",
    "        'Energy0': energy0, 'Energy45': energy45, 'Energy90': energy90, 'Energy135': energy135,\n",
    "        'Correlation0': correlation0, 'Correlation45': correlation45, 'Correlation90': correlation90, 'Correlation135': correlation135,\n",
    "        }\n",
    "df = pd.DataFrame(dataTable)\n",
    "df.to_csv('hasil_ekstraksi_1.csv', index=False)\n",
    "\n",
    "hasilEkstrak = pd.read_csv('hasil_ekstraksi_1.csv')\n",
    "hasilEkstrak\n"
   ]
  },
  {
   "cell_type": "markdown",
   "metadata": {},
   "source": [
    "### Features Selection"
   ]
  },
  {
   "cell_type": "markdown",
   "metadata": {},
   "source": [
    "pada bagian seleksi fitur ini bisa menggunakan metode seperti\n",
    "- PCA\n",
    "- LDA\n",
    "- t-SNE\n",
    "- Chi-square\n",
    "- ANOVA\n",
    "- Autoencoder\n",
    "- correlation\n",
    "- dll\n",
    "\n",
    "berikut contoh menggunakan correlation:"
   ]
  },
  {
   "cell_type": "markdown",
   "metadata": {},
   "source": [
    "Script di bawah digunakan untuk melakukan seleksi fitur dengan cara menghilangkan fitur-fitur yang memiliki korelasi sangat tinggi (lebih dari 0.95) satu sama lain, sehingga hanya fitur yang unik dan tidak redundant yang dipilih. Pertama, kode menghitung matriks korelasi antar fitur (tanpa label dan nama file), lalu menandai fitur yang korelasinya sangat tinggi agar tidak dipilih ganda. Hasil seleksi fitur disimpan ke variabel x_new, sedangkan label ke y. Terakhir, korelasi antar fitur yang terpilih divisualisasikan dalam bentuk heatmap agar mudah dianalisis."
   ]
  },
  {
   "cell_type": "code",
   "execution_count": 25,
   "metadata": {},
   "outputs": [
    {
     "data": {
      "text/plain": [
       "<Axes: >"
      ]
     },
     "execution_count": 25,
     "metadata": {},
     "output_type": "execute_result"
    },
    {
     "data": {
      "image/png": "[encoded data removed]",
      "text/plain": [
       "<Figure size 1700x1700 with 2 Axes>"
      ]
     },
     "metadata": {},
     "output_type": "display_data"
    }
   ],
   "source": [
    "# Menghitung korelasi\n",
    "correlation = hasilEkstrak.drop(columns=['Label','Filename']).corr()\n",
    "\n",
    "# Menyaring fitur yang memiliki korelasi absolut lebih dari 0.95 dengan label\n",
    "threshold = 0.95\n",
    "selectionFeature = []\n",
    "columns = np.full((correlation.shape[0],), True, dtype=bool)\n",
    "for i in range(correlation.shape[0]):\n",
    "\tfor j in range(i+1, correlation.shape[0]):\n",
    "\t\tif correlation.iloc[i,j] >= threshold:\n",
    "\t\t\tif columns[j]:\n",
    "\t\t\t\tcolumns[j] = False\n",
    "select = hasilEkstrak.drop(columns=['Label','Filename']).columns[columns]\n",
    "x_new = hasilEkstrak[select]\n",
    "x_new\n",
    "y = hasilEkstrak['Label']\n",
    "plt.figure(figsize=(17,17))\n",
    "sns.heatmap(x_new.corr(), annot=True, cmap='Blues', fmt=\".2f\")"
   ]
  },
  {
   "cell_type": "markdown",
   "metadata": {},
   "source": [
    "## Splitting Data"
   ]
  },
  {
   "cell_type": "markdown",
   "metadata": {},
   "source": [
    "Script di bawah digunakan untuk membagi data fitur `(x_new)` dan label `(y)` menjadi data latih (train) dan data uji (test) dengan proporsi 80% untuk training dan 20% untuk testing. Fungsi `train_test_split` dari scikit-learn digunakan untuk melakukan pembagian ini secara acak namun tetap konsisten karena menggunakan `random_state=42`. Setelah data dibagi, bentuk (jumlah baris dan kolom) dari data training dan testing ditampilkan menggunakan `print(X_train.shape)` dan `print(X_test.shape)`."
   ]
  },
  {
   "cell_type": "code",
   "execution_count": 26,
   "metadata": {},
   "outputs": [
    {
     "name": "stdout",
     "output_type": "stream",
     "text": [
      "(113, 10)\n",
      "(29, 10)\n"
     ]
    }
   ],
   "source": [
    "# ubah bagian test_size sesuai kebutuhan\n",
    "# 0.3 = 30% data untuk testing (train/test 70/30)\n",
    "# 0.2 = 20% data untuk testing (train/test 80/20)\n",
    "X_train, X_test, y_train, y_test = train_test_split(x_new, y, test_size=0.2, random_state=42)\n",
    "print(X_train.shape)\n",
    "print(X_test.shape)"
   ]
  },
  {
   "cell_type": "markdown",
   "metadata": {},
   "source": [
    "## Feature Normalization"
   ]
  },
  {
   "cell_type": "markdown",
   "metadata": {},
   "source": [
    "berikut metode normalisasi yang bisa digunakan:\n",
    "- Min-Max Scaling\n",
    "- Standardization (Z-score)\n",
    "- Robust Scaling\n",
    "- MaxAbsScaler\n",
    "- dll\n",
    "\n",
    "berikut contoh menggunakan Standardization (Z-score):"
   ]
  },
  {
   "cell_type": "code",
   "execution_count": 27,
   "metadata": {},
   "outputs": [],
   "source": [
    "# normalisasi mean std\n",
    "X_test = (X_test - X_train.mean()) / X_train.std()\n",
    "X_train = (X_train - X_train.mean()) / X_train.std()"
   ]
  },
  {
   "cell_type": "markdown",
   "metadata": {},
   "source": [
    "Script di atas digunakan untuk melakukan normalisasi data fitur menggunakan metode standardisasi (Z-score), yaitu dengan mengurangi setiap nilai fitur pada data uji `(X_test`) dan data latih (`X_train`) dengan rata-rata (`mean`) data latih, lalu membaginya dengan standar deviasi (`std`) data latih. Tujuannya agar setiap fitur memiliki distribusi dengan rata-rata 0 dan standar deviasi 1, sehingga model machine learning dapat bekerja lebih optimal dan tidak bias terhadap fitur dengan skala yang lebih besar."
   ]
  },
  {
   "cell_type": "markdown",
   "metadata": {},
   "source": [
    "## Modeling"
   ]
  },
  {
   "cell_type": "markdown",
   "metadata": {},
   "source": [
    "### Define Model"
   ]
  },
  {
   "cell_type": "code",
   "execution_count": 28,
   "metadata": {},
   "outputs": [],
   "source": [
    "def generateClassificationReport(y_true, y_pred):\n",
    "\tprint(classification_report(y_true, y_pred))\n",
    "\tprint(confusion_matrix(y_true, y_pred))\n",
    "\tprint('Accuracy:', accuracy_score(y_true, y_pred))\n",
    "\n",
    "# Define classifiers\n",
    "rf = RandomForestClassifier(n_estimators=5, random_state=42)\n",
    "svm = SVC(kernel='rbf', random_state=42)\n",
    "knn = KNeighborsClassifier(n_neighbors=5)"
   ]
  },
  {
   "cell_type": "markdown",
   "metadata": {},
   "source": [
    "Script di atas ini digunakan untuk mendefinisikan fungsi `generateClassificationReport` yang digunakan untuk menampilkan hasil evaluasi model klasifikasi, yaitu classification report (precision, recall, f1-score), confusion matrix, dan nilai akurasi. Setelah itu, kode juga mendefinisikan tiga model klasifikasi yang akan digunakan, yaitu Random Forest (`rf`), Support Vector Machine (`svm`), dan K-Nearest Neighbors (`knn`) dengan parameter dasar yang umum digunakan. Ketiga model ini nantinya akan dilatih dan dievaluasi pada data yang sudah diproses."
   ]
  },
  {
   "cell_type": "markdown",
   "metadata": {},
   "source": [
    "### Train Random Forest Classifier"
   ]
  },
  {
   "cell_type": "markdown",
   "metadata": {},
   "source": [
    "Script di bawah ini digunakan untuk melatih model Random Forest (`rf`) menggunakan data latih (`X_train, y_train`). Setelah model dilatih, dilakukan prediksi pada data latih untuk mengevaluasi performa model terhadap data yang sudah dikenal, lalu hasil evaluasinya ditampilkan dengan fungsi `generateClassificationReport`. Selanjutnya, model juga diuji pada data uji (`X_test`) untuk melihat performa pada data yang belum pernah dilihat sebelumnya, dan hasil evaluasinya juga ditampilkan. Dengan cara ini, kamu bisa membandingkan akurasi dan metrik lain antara data latih dan data uji untuk mengetahui apakah model mengalami overfitting atau tidak."
   ]
  },
  {
   "cell_type": "code",
   "execution_count": 29,
   "metadata": {},
   "outputs": [
    {
     "name": "stdout",
     "output_type": "stream",
     "text": [
      "------Training Set------\n",
      "              precision    recall  f1-score   support\n",
      "\n",
      " NormalFinal       0.98      0.98      0.98        55\n",
      "   ScolFinal       0.98      0.98      0.98        58\n",
      "\n",
      "    accuracy                           0.98       113\n",
      "   macro avg       0.98      0.98      0.98       113\n",
      "weighted avg       0.98      0.98      0.98       113\n",
      "\n",
      "[[54  1]\n",
      " [ 1 57]]\n",
      "Accuracy: 0.9823008849557522\n",
      "\n",
      "------Testing Set------\n",
      "              precision    recall  f1-score   support\n",
      "\n",
      " NormalFinal       0.87      0.81      0.84        16\n",
      "   ScolFinal       0.79      0.85      0.81        13\n",
      "\n",
      "    accuracy                           0.83        29\n",
      "   macro avg       0.83      0.83      0.83        29\n",
      "weighted avg       0.83      0.83      0.83        29\n",
      "\n",
      "[[13  3]\n",
      " [ 2 11]]\n",
      "Accuracy: 0.8275862068965517\n"
     ]
    }
   ],
   "source": [
    "# Train Random Forest Classifier\n",
    "rf.fit(X_train, y_train)\n",
    "\n",
    "# Make predictions and evaluate the model with the training set\n",
    "print(\"------Training Set------\")\n",
    "y_pred = rf.predict(X_train)\n",
    "generateClassificationReport( y_train, y_pred)\n",
    "\n",
    "# Make predictions and evaluate the model with the testing set\n",
    "print(\"\\n------Testing Set------\")\n",
    "y_pred = rf.predict(X_test)\n",
    "generateClassificationReport( y_test, y_pred)"
   ]
  },
  {
   "cell_type": "markdown",
   "metadata": {},
   "source": [
    "### Train SVM Classifier"
   ]
  },
  {
   "cell_type": "markdown",
   "metadata": {},
   "source": [
    "Script di bawah ini digunakan untuk melatih model Support Vector Machine (`svm`) menggunakan data latih (`X_train, y_train`). Setelah model dilatih, dilakukan prediksi pada data latih untuk mengevaluasi performa model terhadap data yang sudah dikenal, lalu hasil evaluasinya ditampilkan dengan fungsi `generateClassificationReport`. Selanjutnya, model juga diuji pada data uji (`X_test`) untuk melihat performa pada data yang belum pernah dilihat sebelumnya, dan hasil evaluasinya juga ditampilkan. Ini membantu membandingkan performa model pada data latih dan data uji."
   ]
  },
  {
   "cell_type": "code",
   "execution_count": 30,
   "metadata": {},
   "outputs": [
    {
     "name": "stdout",
     "output_type": "stream",
     "text": [
      "\n",
      "------Training Set------\n",
      "              precision    recall  f1-score   support\n",
      "\n",
      " NormalFinal       0.78      0.91      0.84        55\n",
      "   ScolFinal       0.90      0.76      0.82        58\n",
      "\n",
      "    accuracy                           0.83       113\n",
      "   macro avg       0.84      0.83      0.83       113\n",
      "weighted avg       0.84      0.83      0.83       113\n",
      "\n",
      "[[50  5]\n",
      " [14 44]]\n",
      "Accuracy: 0.831858407079646\n",
      "\n",
      "------Testing Set------\n",
      "              precision    recall  f1-score   support\n",
      "\n",
      " NormalFinal       0.88      0.94      0.91        16\n",
      "   ScolFinal       0.92      0.85      0.88        13\n",
      "\n",
      "    accuracy                           0.90        29\n",
      "   macro avg       0.90      0.89      0.89        29\n",
      "weighted avg       0.90      0.90      0.90        29\n",
      "\n",
      "[[15  1]\n",
      " [ 2 11]]\n",
      "Accuracy: 0.896551724137931\n"
     ]
    }
   ],
   "source": [
    "# Train SVM Classifier\n",
    "svm.fit(X_train, y_train)\n",
    "\n",
    "# Make predictions and evaluate the model with the training set\n",
    "print(\"\\n------Training Set------\")\n",
    "y_pred = svm.predict(X_train)\n",
    "generateClassificationReport( y_train, y_pred)\n",
    "\n",
    "# Make predictions and evaluate the model with the testing set\n",
    "print(\"\\n------Testing Set------\")\n",
    "y_pred = svm.predict(X_test)\n",
    "generateClassificationReport( y_test, y_pred)"
   ]
  },
  {
   "cell_type": "markdown",
   "metadata": {},
   "source": [
    "### Train KNN Classifier"
   ]
  },
  {
   "cell_type": "markdown",
   "metadata": {},
   "source": [
    "Script di bawah ini digunakan untuk melatih model K-Nearest Neighbors (`knn`) pada data latih, lalu mengevaluasi performa model pada data latih dan data uji menggunakan fungsi `generateClassificationReport`. Hasil evaluasi akan menampilkan classification report, confusion matrix, dan akurasi untuk masing-masing data.\n"
   ]
  },
  {
   "cell_type": "code",
   "execution_count": 31,
   "metadata": {},
   "outputs": [
    {
     "name": "stdout",
     "output_type": "stream",
     "text": [
      "\n",
      "------Training Set------\n",
      "              precision    recall  f1-score   support\n",
      "\n",
      " NormalFinal       0.81      0.84      0.82        55\n",
      "   ScolFinal       0.84      0.81      0.82        58\n",
      "\n",
      "    accuracy                           0.82       113\n",
      "   macro avg       0.82      0.82      0.82       113\n",
      "weighted avg       0.82      0.82      0.82       113\n",
      "\n",
      "[[46  9]\n",
      " [11 47]]\n",
      "Accuracy: 0.8230088495575221\n",
      "\n",
      "------Testing Set------\n",
      "              precision    recall  f1-score   support\n",
      "\n",
      " NormalFinal       0.87      0.81      0.84        16\n",
      "   ScolFinal       0.79      0.85      0.81        13\n",
      "\n",
      "    accuracy                           0.83        29\n",
      "   macro avg       0.83      0.83      0.83        29\n",
      "weighted avg       0.83      0.83      0.83        29\n",
      "\n",
      "[[13  3]\n",
      " [ 2 11]]\n",
      "Accuracy: 0.8275862068965517\n"
     ]
    }
   ],
   "source": [
    "# Train KNN Classifier\n",
    "knn.fit(X_train, y_train)\n",
    "\n",
    "# Make predictions and evaluate the model with the training set\n",
    "print(\"\\n------Training Set------\")\n",
    "y_pred = knn.predict(X_train)\n",
    "generateClassificationReport( y_train, y_pred)\n",
    "\n",
    "# Make predictions and evaluate the model with the testing set\n",
    "print(\"\\n------Testing Set------\")\n",
    "y_pred = knn.predict(X_test)\n",
    "generateClassificationReport( y_test, y_pred)\n"
   ]
  },
  {
   "cell_type": "markdown",
   "metadata": {},
   "source": [
    "## Evaluation With Confusion Matrix"
   ]
  },
  {
   "cell_type": "markdown",
   "metadata": {},
   "source": [
    "Script di bawah ini digunakan untuk menampilkan confusion matrix dari hasil prediksi model klasifikasi. Fungsi `plot_confusion_matrix` menerima label asli (y_true), label prediksi (`y_pred`), dan judul plot, lalu menampilkan confusion matrix menggunakan warna biru. Fungsi ini kemudian dipanggil untuk tiga model berbeda (Random Forest, SVM, dan KNN) untuk membandingkan performa masing-masing model pada data uji (`X_test`)."
   ]
  },
  {
   "cell_type": "code",
   "execution_count": 32,
   "metadata": {},
   "outputs": [
    {
     "data": {
      "image/png": "[encoded data removed]",
      "text/plain": [
       "<Figure size 640x480 with 2 Axes>"
      ]
     },
     "metadata": {},
     "output_type": "display_data"
    },
    {
     "data": {
      "image/png": "[encoded data removed]",
      "text/plain": [
       "<Figure size 640x480 with 2 Axes>"
      ]
     },
     "metadata": {},
     "output_type": "display_data"
    },
    {
     "data": {
      "image/png": "[encoded data removed]",
      "text/plain": [
       "<Figure size 640x480 with 2 Axes>"
      ]
     },
     "metadata": {},
     "output_type": "display_data"
    }
   ],
   "source": [
    "def plot_confusion_matrix(y_true, y_pred, title):\n",
    "    cm = confusion_matrix(y_true, y_pred)\n",
    "    disp = ConfusionMatrixDisplay(confusion_matrix=cm)\n",
    "    disp.plot(cmap=plt.cm.Blues)\n",
    "    plt.title(title)\n",
    "    plt.show()\n",
    "\n",
    "# Plot confusion matrix for Random Forest\n",
    "plot_confusion_matrix(y_test, rf.predict(X_test), \"Random Forest Confusion Matrix\")\n",
    "# Plot confusion matrix for SVM\n",
    "plot_confusion_matrix(y_test, svm.predict(X_test), \"SVM Confusion Matrix\")\n",
    "# Plot confusion matrix for KNN\n",
    "plot_confusion_matrix(y_test, knn.predict(X_test), \"KNN Confusion Matrix\")"
   ]
  }
 ],
 "metadata": {
  "kernelspec": {
   "display_name": "Python 3",
   "language": "python",
   "name": "python3"
  },
  "language_info": {
   "codemirror_mode": {
    "name": "ipython",
    "version": 3
   },
   "file_extension": ".py",
   "mimetype": "text/x-python",
   "name": "python",
   "nbconvert_exporter": "python",
   "pygments_lexer": "ipython3",
   "version": "3.13.3"
  }
 },
 "nbformat": 4,
 "nbformat_minor": 2
}
