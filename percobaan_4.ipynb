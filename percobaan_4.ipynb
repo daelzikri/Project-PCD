{
 "cells": [
  {
   "cell_type": "markdown",
   "metadata": {},
   "source": [
    "Script di bawah ini berfungsi untuk mengunduh dan memasang library yang diperlukan untuk pengolahan citra, analisis data, visualisasi, dan machine learning."
   ]
  },
  {
   "cell_type": "code",
   "execution_count": 1,
   "metadata": {},
   "outputs": [
    {
     "name": "stdout",
     "output_type": "stream",
     "text": [
      "Requirement already satisfied: scikit-learn in c:\\users\\daelz\\anaconda3\\lib\\site-packages (1.5.1)\n",
      "Requirement already satisfied: scikit-image in c:\\users\\daelz\\anaconda3\\lib\\site-packages (0.24.0)\n",
      "Requirement already satisfied: scipy in c:\\users\\daelz\\anaconda3\\lib\\site-packages (1.13.1)\n",
      "Requirement already satisfied: seaborn in c:\\users\\daelz\\anaconda3\\lib\\site-packages (0.13.2)\n",
      "Requirement already satisfied: matplotlib in c:\\users\\daelz\\anaconda3\\lib\\site-packages (3.9.2)\n",
      "Requirement already satisfied: numpy in c:\\users\\daelz\\anaconda3\\lib\\site-packages (1.26.4)\n",
      "Requirement already satisfied: opencv-python in c:\\users\\daelz\\anaconda3\\lib\\site-packages (4.11.0.86)\n",
      "Requirement already satisfied: pandas in c:\\users\\daelz\\anaconda3\\lib\\site-packages (2.2.2)\n",
      "Requirement already satisfied: joblib>=1.2.0 in c:\\users\\daelz\\anaconda3\\lib\\site-packages (from scikit-learn) (1.4.2)\n",
      "Requirement already satisfied: threadpoolctl>=3.1.0 in c:\\users\\daelz\\anaconda3\\lib\\site-packages (from scikit-learn) (3.5.0)\n",
      "Requirement already satisfied: networkx>=2.8 in c:\\users\\daelz\\anaconda3\\lib\\site-packages (from scikit-image) (3.3)\n",
      "Requirement already satisfied: pillow>=9.1 in c:\\users\\daelz\\anaconda3\\lib\\site-packages (from scikit-image) (10.4.0)\n",
      "Requirement already satisfied: imageio>=2.33 in c:\\users\\daelz\\anaconda3\\lib\\site-packages (from scikit-image) (2.33.1)\n",
      "Requirement already satisfied: tifffile>=2022.8.12 in c:\\users\\daelz\\anaconda3\\lib\\site-packages (from scikit-image) (2023.4.12)\n",
      "Requirement already satisfied: packaging>=21 in c:\\users\\daelz\\anaconda3\\lib\\site-packages (from scikit-image) (24.1)\n",
      "Requirement already satisfied: lazy-loader>=0.4 in c:\\users\\daelz\\anaconda3\\lib\\site-packages (from scikit-image) (0.4)\n",
      "Requirement already satisfied: contourpy>=1.0.1 in c:\\users\\daelz\\anaconda3\\lib\\site-packages (from matplotlib) (1.2.0)\n",
      "Requirement already satisfied: cycler>=0.10 in c:\\users\\daelz\\anaconda3\\lib\\site-packages (from matplotlib) (0.11.0)\n",
      "Requirement already satisfied: fonttools>=4.22.0 in c:\\users\\daelz\\anaconda3\\lib\\site-packages (from matplotlib) (4.51.0)\n",
      "Requirement already satisfied: kiwisolver>=1.3.1 in c:\\users\\daelz\\anaconda3\\lib\\site-packages (from matplotlib) (1.4.4)\n",
      "Requirement already satisfied: pyparsing>=2.3.1 in c:\\users\\daelz\\anaconda3\\lib\\site-packages (from matplotlib) (3.1.2)\n",
      "Requirement already satisfied: python-dateutil>=2.7 in c:\\users\\daelz\\anaconda3\\lib\\site-packages (from matplotlib) (2.9.0.post0)\n",
      "Requirement already satisfied: pytz>=2020.1 in c:\\users\\daelz\\anaconda3\\lib\\site-packages (from pandas) (2024.1)\n",
      "Requirement already satisfied: tzdata>=2022.7 in c:\\users\\daelz\\anaconda3\\lib\\site-packages (from pandas) (2023.3)\n",
      "Requirement already satisfied: six>=1.5 in c:\\users\\daelz\\anaconda3\\lib\\site-packages (from python-dateutil>=2.7->matplotlib) (1.16.0)\n",
      "Note: you may need to restart the kernel to use updated packages.\n"
     ]
    }
   ],
   "source": [
    "pip install scikit-learn scikit-image scipy seaborn matplotlib numpy opencv-python pandas"
   ]
  },
  {
   "cell_type": "code",
   "execution_count": 1,
   "metadata": {},
   "outputs": [],
   "source": [
    "# Import library yang kalian butuhkan\n",
    "import os\n",
    "import cv2 as cv\n",
    "import matplotlib.pyplot as plt\n",
    "import numpy as np\n",
    "import pandas as pd\n",
    "from sklearn.model_selection import train_test_split, cross_val_predict\n",
    "from sklearn.metrics import accuracy_score, classification_report\n",
    "from skimage.feature import graycomatrix, graycoprops\n",
    "from scipy.stats import entropy\n",
    "from sklearn.ensemble import RandomForestClassifier\n",
    "from sklearn.svm import SVC\n",
    "from sklearn.neighbors import KNeighborsClassifier\n",
    "from sklearn.metrics import accuracy_score, precision_score, recall_score, f1_score, confusion_matrix, classification_report\n",
    "from sklearn.metrics import (confusion_matrix, ConfusionMatrixDisplay)\n",
    "import seaborn as sns"
   ]
  },
  {
   "cell_type": "markdown",
   "metadata": {},
   "source": [
    "Script di atas digunakan untuk mengimpor berbagai library yang diperlukan dalam project pengolahan citra dan machine learning. Library seperti os digunakan untuk mengelola file dan folder, cv2 (OpenCV) untuk membaca dan memproses citra, matplotlib.pyplot dan seaborn untuk visualisasi data dan grafik, serta numpy dan pandas untuk manipulasi data numerik dan tabel. Selain itu, berbagai modul dari scikit-learn diimpor untuk membagi data, membangun model klasifikasi (Random Forest, SVM, KNN), serta melakukan evaluasi model menggunakan metrik seperti akurasi, precision, recall, f1-score, dan confusion matrix. Library skimage.feature digunakan untuk ekstraksi fitur tekstur citra, sedangkan scipy.stats menyediakan fungsi statistik seperti entropy. Seluruh library ini saling melengkapi untuk mendukung proses analisis, pelatihan, dan evaluasi model klasifikasi citra digital."
   ]
  },
  {
   "cell_type": "markdown",
   "metadata": {},
   "source": [
    "## Data Loading"
   ]
  },
  {
   "cell_type": "markdown",
   "metadata": {},
   "source": [
    "Buat struktur folder dataset sebagai berikut:\n",
    "```\n",
    ".\n",
    "└──dataset\n",
    "    ├── label1\n",
    "\t├── image1.jpg\n",
    "\t├── image2.jpg\n",
    "\t└── image3.jpg\n",
    "    ├── label2\n",
    "    └── label3\n",
    "    └── dst...\n",
    "```"
   ]
  },
  {
   "cell_type": "code",
   "execution_count": 2,
   "metadata": {},
   "outputs": [],
   "source": [
    "data_awal = []\n",
    "labels = []\n",
    "file_name = []\n",
    "\n",
    "for sub_folder in os.listdir(\"dataset\\\\\"):\n",
    "    sub_folder_files = os.listdir(os.path.join(\"dataset\\\\\", sub_folder))\n",
    "    for i, filename in enumerate(sub_folder_files):\n",
    "        img_path = os.path.join(\"dataset\\\\\", sub_folder, filename)\n",
    "        img = cv.imread(img_path)\n",
    "\n",
    "        if img is None:\n",
    "            print(f\"Gagal membaca gambar: {img_path}\")\n",
    "            continue\n",
    "        \n",
    "        img = img.astype(np.uint8)\n",
    "        img = cv.cvtColor(img, cv.COLOR_BGR2GRAY)\n",
    "        img = cv.resize(img, (256, 700))  \n",
    "        \n",
    "        data_awal.append(img)\n",
    "        labels.append(sub_folder)\n",
    "        name = os.path.splitext(filename)[0]\n",
    "        file_name.append(filename)\n",
    "\n",
    "data_awal = np.array(data_awal)\n",
    "labels = np.array(labels)\n",
    "\n",
    "data_augmented = []\n",
    "labels_augmented = []\n",
    "paths_augmented = []\n",
    "file_name_augmented = []\n",
    "for i in range(len(data_awal)):\n",
    "\tpass\n",
    "\n"
   ]
  },
  {
   "cell_type": "markdown",
   "metadata": {},
   "source": [
    "Script di atas digunakan untuk memuat seluruh gambar dari folder dataset yang sudah dikelompokkan berdasarkan labelnya. Setiap gambar dibaca dari subfolder, kemudian dikonversi ke format grayscale dan diubah ukurannya menjadi 256x700 piksel agar seragam. Nama file dan label dari setiap gambar juga disimpan ke dalam list. Seluruh data gambar, label, dan nama file kemudian diubah menjadi array numpy agar mudah diproses pada tahap selanjutnya. Selain itu, kode juga menyiapkan variabel untuk data augmentasi, meskipun proses augmentasi belum diimplementasikan pada bagian ini."
   ]
  },
  {
   "cell_type": "markdown",
   "metadata": {},
   "source": [
    "# Augmentasi\n"
   ]
  },
  {
   "cell_type": "markdown",
   "metadata": {},
   "source": [
    "## Data Preparation"
   ]
  },
  {
   "cell_type": "markdown",
   "metadata": {},
   "source": [
    "### Define Preprocessing Function\n"
   ]
  },
  {
   "cell_type": "code",
   "execution_count": null,
   "metadata": {},
   "outputs": [],
   "source": [
    "def histogram_equalization(img):\n",
    "    hist = np.zeros(256, dtype=int)\n",
    "    for i in range(img.shape[0]):\n",
    "        for j in range(img.shape[1]):\n",
    "            hist[img[i, j]] += 1\n",
    "    cdf = hist.cumsum()\n",
    "    cdf_normalized = ((cdf - cdf.min()) * 255 / (cdf.max() - cdf.min())).astype(np.uint8)\n",
    "    equalized = np.zeros_like(img)\n",
    "    for i in range(img.shape[0]):\n",
    "        for j in range(img.shape[1]):\n",
    "            equalized[i, j] = cdf_normalized[img[i, j]]\n",
    "    return equalized\n",
    "\n",
    "def median_filter(image, ksize):\n",
    "    pad = ksize // 2\n",
    "    padded = np.pad(image, pad, mode='edge')\n",
    "    output = np.zeros_like(image)\n",
    "    for i in range(image.shape[0]):\n",
    "        for j in range(image.shape[1]):\n",
    "            window = padded[i:i+ksize, j:j+ksize]\n",
    "            median_val = np.median(window)\n",
    "            output[i, j] = median_val\n",
    "    return output\n",
    "\n",
    "def thresholding(img, threshold):\n",
    "    result = np.zeros_like(img, dtype=np.uint8)\n",
    "    for i in range(img.shape[0]):\n",
    "        for j in range(img.shape[1]):\n",
    "            if img[i, j] >= threshold:\n",
    "                result[i, j] = 255\n",
    "            else:\n",
    "                result[i, j] = 0\n",
    "    return result\n"
   ]
  },
  {
   "cell_type": "markdown",
   "metadata": {},
   "source": [
    "Kode di atas berisi tiga fungsi. Fungsi histogram_equalization meningkatkan kontras gambar dengan meratakan distribusi intensitas piksel berdasarkan histogram dan fungsi distribusi kumulatif (CDF). Fungsi median_filter mengurangi noise dengan mengganti setiap piksel menggunakan median dari lingkungan sekitarnya dalam jendela ukuran tertentu. Fungsi thresholding mengubah gambar grayscale menjadi biner berdasarkan ambang tertentu, di mana piksel yang nilainya di atas ambang akan menjadi putih (255) dan sisanya menjadi hitam (0)."
   ]
  },
  {
   "cell_type": "markdown",
   "metadata": {},
   "source": [
    "### Preprocessing"
   ]
  },
  {
   "cell_type": "code",
   "execution_count": null,
   "metadata": {},
   "outputs": [],
   "source": [
    "preprocessed_data = []\n",
    "\n",
    "for img in data_awal:\n",
    "    img_eq = histogram_equalization(img)       \n",
    "    img_med = median_filter(img_eq, ksize=3)    \n",
    "    thres_img = thresholding(img_med, 87)\n",
    "    preprocessed_data.append(thres_img)\n",
    "\n",
    "preprocessed_data = np.array(preprocessed_data)"
   ]
  },
  {
   "cell_type": "markdown",
   "metadata": {},
   "source": [
    "Kode di atas melakukan preprocessing pada kumpulan citra yang disimpan dalam data_awal. Untuk setiap gambar, pertama dilakukan peningkatan kontras menggunakan histogram equalization, kemudian hasilnya difilter dengan median filter berukuran 3x3 untuk mengurangi noise, dan selanjutnya diterapkan thresholding dengan nilai ambang 87 untuk menghasilkan gambar biner. Hasil dari setiap gambar yang telah diproses disimpan ke dalam list preprocessed_data."
   ]
  },
  {
   "cell_type": "markdown",
   "metadata": {},
   "source": [
    "### Feature Extraction"
   ]
  },
  {
   "cell_type": "code",
   "execution_count": 6,
   "metadata": {},
   "outputs": [],
   "source": [
    "def glcm(image, derajat):\n",
    "    if derajat == 0:\n",
    "        angles = [0]\n",
    "    elif derajat == 45:\n",
    "        angles = [np.pi / 4]\n",
    "    elif derajat == 90:\n",
    "        angles = [np.pi / 2]\n",
    "    elif derajat == 135:\n",
    "        angles = [3 * np.pi / 4]\n",
    "    else:\n",
    "        raise ValueError(\"Invalid angle. It should be one of the following: 0, 45, 90, 135.\")\n",
    "    \n",
    "    # mengembalikan matrix glcm dari image\n",
    "    glcm = graycomatrix(image, [1], angles, 256, symmetric=True, normed=True)\n",
    "    return glcm"
   ]
  },
  {
   "cell_type": "markdown",
   "metadata": {},
   "source": [
    "Fungsi glcm di atas digunakan untuk menghitung matriks GLCM (Gray Level Co-occurrence Matrix) dari sebuah citra grayscale pada sudut tertentu (0, 45, 90, atau 135 derajat). Fungsi ini akan menentukan sudut berdasarkan input, lalu memanggil graycomatrix dari library skimage untuk menghasilkan matriks GLCM dengan jarak 1 piksel, 256 level keabuan, simetris, dan ternormalisasi. Matriks GLCM ini nantinya digunakan untuk ekstraksi fitur tekstur citra seperti kontras, homogenitas, dan lainnya."
   ]
  },
  {
   "cell_type": "code",
   "execution_count": 7,
   "metadata": {},
   "outputs": [],
   "source": [
    "def correlation(matriks):\n",
    "\treturn graycoprops(matriks, 'correlation')[0, 0]"
   ]
  },
  {
   "cell_type": "markdown",
   "metadata": {},
   "source": [
    "Fungsi correlation di atas digunakan untuk menghitung nilai korelasi dari matriks GLCM (Gray Level Co-occurrence Matrix) yang diberikan sebagai input. Fungsi ini memanfaatkan graycoprops dari library skimage untuk mengambil properti correlation, lalu mengembalikan nilai korelasi pada posisi [0, 0] dari hasil tersebut. Nilai korelasi ini menggambarkan tingkat hubungan linier antara piksel-piksel pada citra dan sering digunakan sebagai salah satu fitur tekstur dalam analisis citra."
   ]
  },
  {
   "cell_type": "code",
   "execution_count": 8,
   "metadata": {},
   "outputs": [],
   "source": [
    "def dissimilarity(matriks):\n",
    "    return graycoprops(matriks, 'dissimilarity')[0, 0]"
   ]
  },
  {
   "cell_type": "markdown",
   "metadata": {},
   "source": [
    "Fungsi dissimilarity di atas digunakan untuk menghitung nilai dissimilarity dari matriks GLCM (Gray Level Co-occurrence Matrix) yang diberikan sebagai input. Fungsi ini memanfaatkan graycoprops dari library skimage untuk mengambil properti 'dissimilarity', lalu mengembalikan nilai pada posisi [0, 0]. Nilai dissimilarity ini menggambarkan tingkat perbedaan intensitas antara pasangan piksel pada citra dan sering digunakan sebagai salah satu fitur tekstur dalam analisis citra."
   ]
  },
  {
   "cell_type": "code",
   "execution_count": 9,
   "metadata": {},
   "outputs": [],
   "source": [
    "def homogenity(matriks):\n",
    "    return graycoprops(matriks, 'homogeneity')[0, 0]"
   ]
  },
  {
   "cell_type": "markdown",
   "metadata": {},
   "source": [
    "Fungsi homogenity di atas digunakan untuk menghitung nilai homogenitas dari matriks GLCM (Gray Level Co-occurrence Matrix) yang diberikan sebagai input. Fungsi ini memanfaatkan graycoprops dari library skimage untuk mengambil properti 'homogeneity', lalu mengembalikan nilai pada posisi [0, 0]. Nilai homogenitas ini menunjukkan seberapa seragam atau mirip nilai intensitas antar piksel pada citra, dan sering digunakan sebagai salah satu fitur tekstur dalam analisis citra."
   ]
  },
  {
   "cell_type": "code",
   "execution_count": 10,
   "metadata": {},
   "outputs": [],
   "source": [
    "def contrast(matriks):\n",
    "    return graycoprops(matriks, 'contrast')[0, 0]"
   ]
  },
  {
   "cell_type": "markdown",
   "metadata": {},
   "source": [
    "Fungsi contrast di atas digunakan untuk menghitung nilai kontras dari matriks GLCM (Gray Level Co-occurrence Matrix) yang diberikan sebagai input. Fungsi ini memanfaatkan graycoprops dari library skimage untuk mengambil properti 'contrast', lalu mengembalikan nilai pada posisi [0, 0]. Nilai kontras ini menunjukkan perbedaan intensitas antara piksel-piksel pada citra dan sering digunakan sebagai salah satu fitur tekstur dalam analisis citra."
   ]
  },
  {
   "cell_type": "code",
   "execution_count": 11,
   "metadata": {},
   "outputs": [],
   "source": [
    "def ASM(matriks):\n",
    "    return graycoprops(matriks, 'ASM')[0, 0]"
   ]
  },
  {
   "cell_type": "markdown",
   "metadata": {},
   "source": [
    "Fungsi ASM di atas digunakan untuk menghitung nilai ASM (Angular Second Moment) dari matriks GLCM (Gray Level Co-occurrence Matrix) yang diberikan sebagai input. Fungsi ini memanfaatkan graycoprops dari library skimage untuk mengambil properti 'ASM', lalu mengembalikan nilai pada posisi [0, 0]. Nilai ASM ini menunjukkan tingkat keseragaman atau konsistensi tekstur pada citra, di mana nilai yang tinggi menandakan tekstur yang lebih seragam."
   ]
  },
  {
   "cell_type": "code",
   "execution_count": 12,
   "metadata": {},
   "outputs": [],
   "source": [
    "def energy(matriks):\n",
    "    return graycoprops(matriks, 'energy')[0, 0]"
   ]
  },
  {
   "cell_type": "markdown",
   "metadata": {},
   "source": [
    "Fungsi energy di atas digunakan untuk menghitung nilai energy dari matriks GLCM (Gray Level Co-occurrence Matrix) yang diberikan sebagai input. Fungsi ini memanfaatkan graycoprops dari library skimage untuk mengambil properti 'energy', lalu mengembalikan nilai pada posisi [0, 0]. Nilai energy ini menunjukkan tingkat keseragaman tekstur pada citra, di mana nilai yang tinggi menandakan tekstur yang lebih seragam."
   ]
  },
  {
   "cell_type": "code",
   "execution_count": 13,
   "metadata": {},
   "outputs": [],
   "source": [
    "def entropyGlcm(matriks):\n",
    "    return entropy(matriks.ravel())"
   ]
  },
  {
   "cell_type": "markdown",
   "metadata": {},
   "source": [
    "Fungsi entropyGlcm di atas digunakan untuk menghitung nilai entropi dari matriks GLCM (Gray Level Co-occurrence Matrix) yang diberikan sebagai input. Fungsi ini menggunakan entropy dari scipy.stats pada matriks yang telah diratakan (flattened) menjadi satu dimensi dengan .ravel(). Nilai entropi ini menggambarkan tingkat ketidakpastian atau kompleksitas tekstur pada citra; semakin tinggi nilai entropi, semakin kompleks tekstur citra tersebut."
   ]
  },
  {
   "cell_type": "code",
   "execution_count": 14,
   "metadata": {},
   "outputs": [],
   "source": [
    "Derajat0 = []\n",
    "Derajat45 = []\n",
    "Derajat90 = []\n",
    "Derajat135 = []\n",
    "for i in range(len(preprocessed_data)):\n",
    "    D0 = glcm(preprocessed_data[i], 0)\n",
    "    D45 = glcm(preprocessed_data[i], 45)\n",
    "    D90 = glcm(preprocessed_data[i], 90)\n",
    "    D135 = glcm(preprocessed_data[i], 135)\n",
    "    Derajat0.append(D0)\n",
    "    Derajat45.append(D45)\n",
    "    Derajat90.append(D90)\n",
    "    Derajat135.append(D135)"
   ]
  },
  {
   "cell_type": "markdown",
   "metadata": {},
   "source": [
    "Script di atas digunakan untuk menghitung matriks GLCM (Gray Level Co-occurrence Matrix) dari setiap gambar hasil preprocessing pada empat sudut berbeda, yaitu 0°, 45°, 90°, dan 135°. Setiap gambar diproses satu per satu, lalu hasil GLCM untuk masing-masing sudut disimpan ke dalam list yang berbeda (Derajat0, Derajat45, Derajat90, Derajat135). Dengan cara ini, kita bisa mendapatkan informasi tekstur citra dari berbagai arah sehingga fitur yang diekstrak menjadi lebih lengkap dan representatif."
   ]
  },
  {
   "cell_type": "code",
   "execution_count": 15,
   "metadata": {},
   "outputs": [],
   "source": [
    "Kontras0, Kontras45, Kontras90, Kontras135 = [], [], [], []\n",
    "dissimilarity0, dissimilarity45, dissimilarity90, dissimilarity135 =  [], [], [], []\n",
    "homogenity0, homogenity45, homogenity90, homogenity135 = [], [], [], []\n",
    "entropy0, entropy45, entropy90, entropy135 =  [], [], [], []\n",
    "ASM0, ASM45, ASM90, ASM135 =  [], [], [], []\n",
    "energy0, energy45, energy90, energy135 =  [], [], [], []\n",
    "correlation0, correlation45, correlation90, correlation135 = [], [], [], []\n"
   ]
  },
  {
   "cell_type": "markdown",
   "metadata": {},
   "source": [
    "Script di atas digunakan untuk menyiapkan list kosong yang akan menampung hasil ekstraksi berbagai fitur tekstur dari matriks GLCM pada empat sudut berbeda (0°, 45°, 90°, dan 135°). Setiap fitur seperti kontras, dissimilarity, homogenitas, entropi, ASM, energi, dan korelasi akan memiliki empat list sesuai sudutnya, sehingga hasil ekstraksi dari setiap gambar dan setiap sudut bisa disimpan secara terpisah dan terstruktur sebelum nantinya digabungkan ke dalam tabel fitur."
   ]
  },
  {
   "cell_type": "code",
   "execution_count": 16,
   "metadata": {},
   "outputs": [],
   "source": [
    "for i in range(len(preprocessed_data)):\n",
    "    C0 = correlation(Derajat0[i])\n",
    "    correlation0.append(C0)\n",
    "    C45 = correlation(Derajat45[i])\n",
    "    correlation45.append(C45)\n",
    "    C90 = correlation(Derajat90[i])\n",
    "    correlation90.append(C90)\n",
    "    C135 = correlation(Derajat135[i])\n",
    "    correlation135.append(C135)"
   ]
  },
  {
   "cell_type": "markdown",
   "metadata": {},
   "source": [
    "Script di atas digunakan untuk menghitung nilai fitur korelasi dari matriks GLCM pada setiap sudut (0°, 45°, 90°, dan 135°) untuk seluruh gambar hasil preprocessing. Pada setiap iterasi, fungsi correlation dipanggil untuk masing-masing matriks GLCM (Derajat0, Derajat45, Derajat90, Derajat135) dan hasilnya dimasukkan ke dalam list yang sesuai (correlation0, correlation45, correlation90, correlation135). Dengan cara ini, setiap gambar akan memiliki nilai korelasi tekstur dari empat arah yang berbeda, yang nantinya digunakan sebagai fitur dalam proses analisis atau klasifikasi citra."
   ]
  },
  {
   "cell_type": "code",
   "execution_count": 17,
   "metadata": {},
   "outputs": [],
   "source": [
    "for i in range(len(data_awal)):\n",
    "    K0 = contrast(Derajat0[i])\n",
    "    K45 = contrast(Derajat45[i])\n",
    "    K90 = contrast(Derajat90[i])\n",
    "    K135 = contrast(Derajat135[i])\n",
    "    Kontras0.append(K0)\n",
    "    Kontras45.append(K45)\n",
    "    Kontras90.append(K90)\n",
    "    Kontras135.append(K135)"
   ]
  },
  {
   "cell_type": "markdown",
   "metadata": {},
   "source": [
    "Script di atas digunakan untuk menghitung nilai fitur kontras dari matriks GLCM pada setiap sudut (0°, 45°, 90°, dan 135°) untuk seluruh gambar yang ada di data_awal. Pada setiap iterasi, fungsi contrast dipanggil untuk masing-masing matriks GLCM (Derajat0, Derajat45, Derajat90, Derajat135) dan hasilnya dimasukkan ke dalam list yang sesuai (Kontras0, Kontras45, Kontras90, Kontras135). Dengan cara ini, setiap gambar akan memiliki nilai kontras tekstur dari empat arah berbeda, yang nantinya digunakan sebagai fitur dalam proses analisis atau klasifikasi citra."
   ]
  },
  {
   "cell_type": "code",
   "execution_count": 18,
   "metadata": {},
   "outputs": [],
   "source": [
    "for i in range(len(data_awal)):\n",
    "    Dis0 = dissimilarity(Derajat0[i])\n",
    "    Dis45 = dissimilarity(Derajat45[i])\n",
    "    Dis90 = dissimilarity(Derajat90[i])\n",
    "    Dis135 = dissimilarity(Derajat135[i])\n",
    "    dissimilarity0.append(Dis0)\n",
    "    dissimilarity45.append(Dis45)\n",
    "    dissimilarity90.append(Dis90)\n",
    "    dissimilarity135.append(Dis135)"
   ]
  },
  {
   "cell_type": "markdown",
   "metadata": {},
   "source": [
    "Script di atas digunakan untuk menghitung nilai fitur dissimilarity dari matriks GLCM pada setiap sudut (0°, 45°, 90°, dan 135°) untuk seluruh gambar yang ada di data_awal. Pada setiap iterasi, fungsi dissimilarity dipanggil untuk masing-masing matriks GLCM (Derajat0, Derajat45, Derajat90, Derajat135) dan hasilnya dimasukkan ke dalam list yang sesuai (dissimilarity0, dissimilarity45, dissimilarity90, dissimilarity135). Dengan cara ini, setiap gambar akan memiliki nilai dissimilarity tekstur dari empat arah berbeda, yang nantinya digunakan sebagai fitur dalam proses analisis atau klasifikasi citra."
   ]
  },
  {
   "cell_type": "code",
   "execution_count": 19,
   "metadata": {},
   "outputs": [],
   "source": [
    "for i in range(len(data_awal)):\n",
    "    H0 = homogenity(Derajat0[i])\n",
    "    H45 = homogenity(Derajat45[i])\n",
    "    H90 = homogenity(Derajat90[i])\n",
    "    H135 = homogenity(Derajat135[i])\n",
    "    homogenity0.append(H0)\n",
    "    homogenity45.append(H45)\n",
    "    homogenity90.append(H90)\n",
    "    homogenity135.append(H135)"
   ]
  },
  {
   "cell_type": "markdown",
   "metadata": {},
   "source": [
    "Script di atas Kode tersebut digunakan untuk menghitung nilai fitur homogenitas dari matriks GLCM pada setiap sudut (0°, 45°, 90°, dan 135°) untuk seluruh gambar yang ada di data_awal. Pada setiap iterasi, fungsi homogenity dipanggil untuk masing-masing matriks GLCM (Derajat0, Derajat45, Derajat90, Derajat135) dan hasilnya dimasukkan ke dalam list yang sesuai (homogenity0, homogenity45, homogenity90, homogenity135). Dengan cara ini, setiap gambar akan memiliki nilai homogenitas tekstur dari empat arah berbeda, yang nantinya digunakan sebagai fitur dalam proses analisis atau klasifikasi citra."
   ]
  },
  {
   "cell_type": "code",
   "execution_count": 20,
   "metadata": {},
   "outputs": [],
   "source": [
    "for i in range(len(data_awal)):  \n",
    "    E0 = entropyGlcm(Derajat0[i])\n",
    "    E45 = entropyGlcm(Derajat45[i])\n",
    "    E90 = entropyGlcm(Derajat90[i])\n",
    "    E135 = entropyGlcm(Derajat135[i])\n",
    "    entropy0.append(E0)\n",
    "    entropy45.append(E45)\n",
    "    entropy90.append(E90)\n",
    "    entropy135.append(E135)"
   ]
  },
  {
   "cell_type": "markdown",
   "metadata": {},
   "source": [
    "Script di atas digunakan untuk menghitung nilai fitur entropi dari matriks GLCM pada setiap sudut (0°, 45°, 90°, dan 135°) untuk seluruh gambar yang ada di data_awal. Pada setiap iterasi, fungsi entropyGlcm dipanggil untuk masing-masing matriks GLCM (Derajat0, Derajat45, Derajat90, Derajat135) dan hasilnya dimasukkan ke dalam list yang sesuai (entropy0, entropy45, entropy90, entropy135). Dengan cara ini, setiap gambar akan memiliki nilai entropi tekstur dari empat arah berbeda, yang nantinya digunakan sebagai fitur dalam proses analisis atau klasifikasi citra."
   ]
  },
  {
   "cell_type": "code",
   "execution_count": 21,
   "metadata": {},
   "outputs": [],
   "source": [
    "for i in range(len(data_awal)):\n",
    "    A0 = ASM(Derajat0[i])\n",
    "    A45 = ASM(Derajat45[i])\n",
    "    A90 = ASM(Derajat90[i])\n",
    "    A135 = ASM(Derajat135[i])\n",
    "    ASM0.append(A0)\n",
    "    ASM45.append(A45)\n",
    "    ASM90.append(A90)\n",
    "    ASM135.append(A135)"
   ]
  },
  {
   "cell_type": "markdown",
   "metadata": {},
   "source": [
    "Script di atas digunakan untuk menghitung nilai fitur ASM (Angular Second Moment) dari matriks GLCM pada setiap sudut (0°, 45°, 90°, dan 135°) untuk seluruh gambar yang ada di data_awal. Pada setiap iterasi, fungsi ASM dipanggil untuk masing-masing matriks GLCM (Derajat0, Derajat45, Derajat90, Derajat135) dan hasilnya dimasukkan ke dalam list yang sesuai (ASM0, ASM45, ASM90, ASM135). Dengan cara ini, setiap gambar akan memiliki nilai ASM tekstur dari empat arah berbeda, yang nantinya digunakan sebagai fitur dalam proses analisis atau klasifikasi citra."
   ]
  },
  {
   "cell_type": "code",
   "execution_count": 22,
   "metadata": {},
   "outputs": [],
   "source": [
    "for i in range(len(data_awal)):\n",
    "    ER0 = energy(Derajat0[i])\n",
    "    ER45 = energy(Derajat45[i])\n",
    "    ER90 = energy(Derajat90[i])\n",
    "    ER135 = energy(Derajat135[i])\n",
    "    energy0.append(ER0)\n",
    "    energy45.append(ER45)\n",
    "    energy90.append(ER90)\n",
    "    energy135.append(ER135)"
   ]
  },
  {
   "cell_type": "markdown",
   "metadata": {},
   "source": [
    "Script di atas digunakan untuk menghitung nilai fitur energy dari matriks GLCM pada setiap sudut (0°, 45°, 90°, dan 135°) untuk seluruh gambar yang ada di data_awal. Pada setiap iterasi, fungsi energy dipanggil untuk masing-masing matriks GLCM (Derajat0, Derajat45, Derajat90, Derajat135) dan hasilnya dimasukkan ke dalam list yang sesuai (energy0, energy45, energy90, energy135). Dengan cara ini, setiap gambar akan memiliki nilai energy tekstur dari empat arah berbeda, yang nantinya digunakan sebagai fitur dalam proses analisis atau klasifikasi citra."
   ]
  },
  {
   "cell_type": "markdown",
   "metadata": {},
   "source": [
    "### Write the extraction's results to CSV "
   ]
  },
  {
   "cell_type": "markdown",
   "metadata": {},
   "source": [
    "Script di bawah di gunakan untuk membuat sebuah dictionary dataTable yang berisi seluruh fitur hasil ekstraksi tekstur GLCM (seperti Contrast, Homogeneity, Dissimilarity, Entropy, ASM, Energy, Correlation) dari empat sudut berbeda (0°, 45°, 90°, 135°) beserta nama file dan labelnya. Dictionary ini kemudian dikonversi menjadi DataFrame pandas dan disimpan ke file CSV bernama hasil_ekstraksi_1.csv. Setelah itu, file CSV dibaca kembali ke dalam DataFrame hasilEkstrak untuk ditampilkan atau digunakan pada proses selanjutnya (misal seleksi fitur atau pelatihan model)."
   ]
  },
  {
   "cell_type": "code",
   "execution_count": 23,
   "metadata": {},
   "outputs": [
    {
     "data": {
      "text/html": [
       "<div>\n",
       "<style scoped>\n",
       "    .dataframe tbody tr th:only-of-type {\n",
       "        vertical-align: middle;\n",
       "    }\n",
       "\n",
       "    .dataframe tbody tr th {\n",
       "        vertical-align: top;\n",
       "    }\n",
       "\n",
       "    .dataframe thead th {\n",
       "        text-align: right;\n",
       "    }\n",
       "</style>\n",
       "<table border=\"1\" class=\"dataframe\">\n",
       "  <thead>\n",
       "    <tr style=\"text-align: right;\">\n",
       "      <th></th>\n",
       "      <th>Filename</th>\n",
       "      <th>Label</th>\n",
       "      <th>Contrast0</th>\n",
       "      <th>Contrast45</th>\n",
       "      <th>Contrast90</th>\n",
       "      <th>Contrast135</th>\n",
       "      <th>Homogeneity0</th>\n",
       "      <th>Homogeneity45</th>\n",
       "      <th>Homogeneity90</th>\n",
       "      <th>Homogeneity135</th>\n",
       "      <th>...</th>\n",
       "      <th>ASM90</th>\n",
       "      <th>ASM135</th>\n",
       "      <th>Energy0</th>\n",
       "      <th>Energy45</th>\n",
       "      <th>Energy90</th>\n",
       "      <th>Energy135</th>\n",
       "      <th>Correlation0</th>\n",
       "      <th>Correlation45</th>\n",
       "      <th>Correlation90</th>\n",
       "      <th>Correlation135</th>\n",
       "    </tr>\n",
       "  </thead>\n",
       "  <tbody>\n",
       "    <tr>\n",
       "      <th>0</th>\n",
       "      <td>N1,N,40,M_1_0.jpg</td>\n",
       "      <td>NormalFinal</td>\n",
       "      <td>832.392857</td>\n",
       "      <td>1398.304721</td>\n",
       "      <td>1137.021778</td>\n",
       "      <td>1374.957082</td>\n",
       "      <td>0.987199</td>\n",
       "      <td>0.978496</td>\n",
       "      <td>0.982514</td>\n",
       "      <td>0.978855</td>\n",
       "      <td>...</td>\n",
       "      <td>0.537905</td>\n",
       "      <td>0.534859</td>\n",
       "      <td>0.736917</td>\n",
       "      <td>0.731106</td>\n",
       "      <td>0.733420</td>\n",
       "      <td>0.731341</td>\n",
       "      <td>0.971189</td>\n",
       "      <td>0.951616</td>\n",
       "      <td>0.960698</td>\n",
       "      <td>0.952423</td>\n",
       "    </tr>\n",
       "    <tr>\n",
       "      <th>1</th>\n",
       "      <td>N1,N,F,21_1_0.jpg</td>\n",
       "      <td>NormalFinal</td>\n",
       "      <td>1136.935714</td>\n",
       "      <td>1955.364807</td>\n",
       "      <td>1492.045836</td>\n",
       "      <td>1702.918455</td>\n",
       "      <td>0.982516</td>\n",
       "      <td>0.969929</td>\n",
       "      <td>0.977055</td>\n",
       "      <td>0.973812</td>\n",
       "      <td>...</td>\n",
       "      <td>0.531124</td>\n",
       "      <td>0.528873</td>\n",
       "      <td>0.732930</td>\n",
       "      <td>0.724713</td>\n",
       "      <td>0.728783</td>\n",
       "      <td>0.727237</td>\n",
       "      <td>0.960765</td>\n",
       "      <td>0.932519</td>\n",
       "      <td>0.948605</td>\n",
       "      <td>0.941231</td>\n",
       "    </tr>\n",
       "    <tr>\n",
       "      <th>2</th>\n",
       "      <td>N11,N,F,26_1_0.jpg</td>\n",
       "      <td>NormalFinal</td>\n",
       "      <td>1031.292857</td>\n",
       "      <td>1846.652361</td>\n",
       "      <td>1567.629258</td>\n",
       "      <td>1911.587983</td>\n",
       "      <td>0.984140</td>\n",
       "      <td>0.971601</td>\n",
       "      <td>0.975892</td>\n",
       "      <td>0.970603</td>\n",
       "      <td>...</td>\n",
       "      <td>0.531182</td>\n",
       "      <td>0.526697</td>\n",
       "      <td>0.734716</td>\n",
       "      <td>0.726387</td>\n",
       "      <td>0.728823</td>\n",
       "      <td>0.725739</td>\n",
       "      <td>0.964326</td>\n",
       "      <td>0.936149</td>\n",
       "      <td>0.945860</td>\n",
       "      <td>0.933903</td>\n",
       "    </tr>\n",
       "    <tr>\n",
       "      <th>3</th>\n",
       "      <td>N12,N,F,14_1_0.jpg</td>\n",
       "      <td>NormalFinal</td>\n",
       "      <td>866.635714</td>\n",
       "      <td>1572.317597</td>\n",
       "      <td>1310.354916</td>\n",
       "      <td>1564.291845</td>\n",
       "      <td>0.986672</td>\n",
       "      <td>0.975820</td>\n",
       "      <td>0.979849</td>\n",
       "      <td>0.975944</td>\n",
       "      <td>...</td>\n",
       "      <td>0.535001</td>\n",
       "      <td>0.531853</td>\n",
       "      <td>0.736382</td>\n",
       "      <td>0.729202</td>\n",
       "      <td>0.731438</td>\n",
       "      <td>0.729283</td>\n",
       "      <td>0.970023</td>\n",
       "      <td>0.945622</td>\n",
       "      <td>0.954741</td>\n",
       "      <td>0.945900</td>\n",
       "    </tr>\n",
       "    <tr>\n",
       "      <th>4</th>\n",
       "      <td>N12,N,M,13_1_0.jpg</td>\n",
       "      <td>NormalFinal</td>\n",
       "      <td>980.657143</td>\n",
       "      <td>1536.566524</td>\n",
       "      <td>1253.303967</td>\n",
       "      <td>1603.690987</td>\n",
       "      <td>0.984919</td>\n",
       "      <td>0.976370</td>\n",
       "      <td>0.980726</td>\n",
       "      <td>0.975338</td>\n",
       "      <td>...</td>\n",
       "      <td>0.535171</td>\n",
       "      <td>0.530867</td>\n",
       "      <td>0.735000</td>\n",
       "      <td>0.729280</td>\n",
       "      <td>0.731554</td>\n",
       "      <td>0.728606</td>\n",
       "      <td>0.966104</td>\n",
       "      <td>0.946907</td>\n",
       "      <td>0.956777</td>\n",
       "      <td>0.944588</td>\n",
       "    </tr>\n",
       "    <tr>\n",
       "      <th>...</th>\n",
       "      <td>...</td>\n",
       "      <td>...</td>\n",
       "      <td>...</td>\n",
       "      <td>...</td>\n",
       "      <td>...</td>\n",
       "      <td>...</td>\n",
       "      <td>...</td>\n",
       "      <td>...</td>\n",
       "      <td>...</td>\n",
       "      <td>...</td>\n",
       "      <td>...</td>\n",
       "      <td>...</td>\n",
       "      <td>...</td>\n",
       "      <td>...</td>\n",
       "      <td>...</td>\n",
       "      <td>...</td>\n",
       "      <td>...</td>\n",
       "      <td>...</td>\n",
       "      <td>...</td>\n",
       "      <td>...</td>\n",
       "      <td>...</td>\n",
       "    </tr>\n",
       "    <tr>\n",
       "      <th>137</th>\n",
       "      <td>N90, Rt TAIS, F, 14 Yrs.jpg</td>\n",
       "      <td>ScolFinal</td>\n",
       "      <td>1316.892857</td>\n",
       "      <td>1700.364807</td>\n",
       "      <td>1090.508902</td>\n",
       "      <td>1693.433476</td>\n",
       "      <td>0.979748</td>\n",
       "      <td>0.973851</td>\n",
       "      <td>0.983230</td>\n",
       "      <td>0.973958</td>\n",
       "      <td>...</td>\n",
       "      <td>0.537412</td>\n",
       "      <td>0.529245</td>\n",
       "      <td>0.731055</td>\n",
       "      <td>0.727424</td>\n",
       "      <td>0.733084</td>\n",
       "      <td>0.727492</td>\n",
       "      <td>0.954563</td>\n",
       "      <td>0.941289</td>\n",
       "      <td>0.962406</td>\n",
       "      <td>0.941528</td>\n",
       "    </tr>\n",
       "    <tr>\n",
       "      <th>138</th>\n",
       "      <td>N91, Rt TAIS, M, 15 Yrs.jpg</td>\n",
       "      <td>ScolFinal</td>\n",
       "      <td>1093.585714</td>\n",
       "      <td>1435.150215</td>\n",
       "      <td>961.144967</td>\n",
       "      <td>1511.394850</td>\n",
       "      <td>0.983182</td>\n",
       "      <td>0.977930</td>\n",
       "      <td>0.985219</td>\n",
       "      <td>0.976757</td>\n",
       "      <td>...</td>\n",
       "      <td>0.535759</td>\n",
       "      <td>0.528095</td>\n",
       "      <td>0.730821</td>\n",
       "      <td>0.727472</td>\n",
       "      <td>0.731956</td>\n",
       "      <td>0.726701</td>\n",
       "      <td>0.962574</td>\n",
       "      <td>0.950867</td>\n",
       "      <td>0.967129</td>\n",
       "      <td>0.948256</td>\n",
       "    </tr>\n",
       "    <tr>\n",
       "      <th>139</th>\n",
       "      <td>N94, Rt TAIS, F, 15 Yrs.jpg</td>\n",
       "      <td>ScolFinal</td>\n",
       "      <td>1741.650000</td>\n",
       "      <td>2516.802575</td>\n",
       "      <td>1861.968549</td>\n",
       "      <td>2647.403433</td>\n",
       "      <td>0.973216</td>\n",
       "      <td>0.961295</td>\n",
       "      <td>0.971366</td>\n",
       "      <td>0.959287</td>\n",
       "      <td>...</td>\n",
       "      <td>0.524703</td>\n",
       "      <td>0.514221</td>\n",
       "      <td>0.725675</td>\n",
       "      <td>0.718380</td>\n",
       "      <td>0.724364</td>\n",
       "      <td>0.717092</td>\n",
       "      <td>0.940124</td>\n",
       "      <td>0.913358</td>\n",
       "      <td>0.936009</td>\n",
       "      <td>0.908862</td>\n",
       "    </tr>\n",
       "    <tr>\n",
       "      <th>140</th>\n",
       "      <td>N98, Rt TAIS, F, 14 Yrs.jpg</td>\n",
       "      <td>ScolFinal</td>\n",
       "      <td>998.507143</td>\n",
       "      <td>1454.120172</td>\n",
       "      <td>1126.120323</td>\n",
       "      <td>1584.356223</td>\n",
       "      <td>0.984644</td>\n",
       "      <td>0.977638</td>\n",
       "      <td>0.982682</td>\n",
       "      <td>0.975635</td>\n",
       "      <td>...</td>\n",
       "      <td>0.535341</td>\n",
       "      <td>0.529140</td>\n",
       "      <td>0.733268</td>\n",
       "      <td>0.728730</td>\n",
       "      <td>0.731670</td>\n",
       "      <td>0.727420</td>\n",
       "      <td>0.965662</td>\n",
       "      <td>0.949982</td>\n",
       "      <td>0.961312</td>\n",
       "      <td>0.945502</td>\n",
       "    </tr>\n",
       "    <tr>\n",
       "      <th>141</th>\n",
       "      <td>N99, Rt TAIS, F, 17 Yrs.jpg</td>\n",
       "      <td>ScolFinal</td>\n",
       "      <td>1558.778571</td>\n",
       "      <td>2090.343348</td>\n",
       "      <td>1462.975288</td>\n",
       "      <td>2226.781116</td>\n",
       "      <td>0.976028</td>\n",
       "      <td>0.967854</td>\n",
       "      <td>0.977502</td>\n",
       "      <td>0.965756</td>\n",
       "      <td>...</td>\n",
       "      <td>0.528815</td>\n",
       "      <td>0.518071</td>\n",
       "      <td>0.726361</td>\n",
       "      <td>0.721131</td>\n",
       "      <td>0.727196</td>\n",
       "      <td>0.719772</td>\n",
       "      <td>0.946611</td>\n",
       "      <td>0.928381</td>\n",
       "      <td>0.949913</td>\n",
       "      <td>0.923706</td>\n",
       "    </tr>\n",
       "  </tbody>\n",
       "</table>\n",
       "<p>142 rows × 30 columns</p>\n",
       "</div>"
      ],
      "text/plain": [
       "                        Filename        Label    Contrast0   Contrast45  \\\n",
       "0              N1,N,40,M_1_0.jpg  NormalFinal   832.392857  1398.304721   \n",
       "1              N1,N,F,21_1_0.jpg  NormalFinal  1136.935714  1955.364807   \n",
       "2             N11,N,F,26_1_0.jpg  NormalFinal  1031.292857  1846.652361   \n",
       "3             N12,N,F,14_1_0.jpg  NormalFinal   866.635714  1572.317597   \n",
       "4             N12,N,M,13_1_0.jpg  NormalFinal   980.657143  1536.566524   \n",
       "..                           ...          ...          ...          ...   \n",
       "137  N90, Rt TAIS, F, 14 Yrs.jpg    ScolFinal  1316.892857  1700.364807   \n",
       "138  N91, Rt TAIS, M, 15 Yrs.jpg    ScolFinal  1093.585714  1435.150215   \n",
       "139  N94, Rt TAIS, F, 15 Yrs.jpg    ScolFinal  1741.650000  2516.802575   \n",
       "140  N98, Rt TAIS, F, 14 Yrs.jpg    ScolFinal   998.507143  1454.120172   \n",
       "141  N99, Rt TAIS, F, 17 Yrs.jpg    ScolFinal  1558.778571  2090.343348   \n",
       "\n",
       "      Contrast90  Contrast135  Homogeneity0  Homogeneity45  Homogeneity90  \\\n",
       "0    1137.021778  1374.957082      0.987199       0.978496       0.982514   \n",
       "1    1492.045836  1702.918455      0.982516       0.969929       0.977055   \n",
       "2    1567.629258  1911.587983      0.984140       0.971601       0.975892   \n",
       "3    1310.354916  1564.291845      0.986672       0.975820       0.979849   \n",
       "4    1253.303967  1603.690987      0.984919       0.976370       0.980726   \n",
       "..           ...          ...           ...            ...            ...   \n",
       "137  1090.508902  1693.433476      0.979748       0.973851       0.983230   \n",
       "138   961.144967  1511.394850      0.983182       0.977930       0.985219   \n",
       "139  1861.968549  2647.403433      0.973216       0.961295       0.971366   \n",
       "140  1126.120323  1584.356223      0.984644       0.977638       0.982682   \n",
       "141  1462.975288  2226.781116      0.976028       0.967854       0.977502   \n",
       "\n",
       "     Homogeneity135  ...     ASM90    ASM135   Energy0  Energy45  Energy90  \\\n",
       "0          0.978855  ...  0.537905  0.534859  0.736917  0.731106  0.733420   \n",
       "1          0.973812  ...  0.531124  0.528873  0.732930  0.724713  0.728783   \n",
       "2          0.970603  ...  0.531182  0.526697  0.734716  0.726387  0.728823   \n",
       "3          0.975944  ...  0.535001  0.531853  0.736382  0.729202  0.731438   \n",
       "4          0.975338  ...  0.535171  0.530867  0.735000  0.729280  0.731554   \n",
       "..              ...  ...       ...       ...       ...       ...       ...   \n",
       "137        0.973958  ...  0.537412  0.529245  0.731055  0.727424  0.733084   \n",
       "138        0.976757  ...  0.535759  0.528095  0.730821  0.727472  0.731956   \n",
       "139        0.959287  ...  0.524703  0.514221  0.725675  0.718380  0.724364   \n",
       "140        0.975635  ...  0.535341  0.529140  0.733268  0.728730  0.731670   \n",
       "141        0.965756  ...  0.528815  0.518071  0.726361  0.721131  0.727196   \n",
       "\n",
       "     Energy135  Correlation0  Correlation45  Correlation90  Correlation135  \n",
       "0     0.731341      0.971189       0.951616       0.960698        0.952423  \n",
       "1     0.727237      0.960765       0.932519       0.948605        0.941231  \n",
       "2     0.725739      0.964326       0.936149       0.945860        0.933903  \n",
       "3     0.729283      0.970023       0.945622       0.954741        0.945900  \n",
       "4     0.728606      0.966104       0.946907       0.956777        0.944588  \n",
       "..         ...           ...            ...            ...             ...  \n",
       "137   0.727492      0.954563       0.941289       0.962406        0.941528  \n",
       "138   0.726701      0.962574       0.950867       0.967129        0.948256  \n",
       "139   0.717092      0.940124       0.913358       0.936009        0.908862  \n",
       "140   0.727420      0.965662       0.949982       0.961312        0.945502  \n",
       "141   0.719772      0.946611       0.928381       0.949913        0.923706  \n",
       "\n",
       "[142 rows x 30 columns]"
      ]
     },
     "execution_count": 23,
     "metadata": {},
     "output_type": "execute_result"
    }
   ],
   "source": [
    "dataTable = {'Filename': file_name, 'Label': labels,\n",
    "        'Contrast0': Kontras0, 'Contrast45': Kontras45, 'Contrast90': Kontras90, 'Contrast135': Kontras135,\n",
    "        'Homogeneity0': homogenity0, 'Homogeneity45': homogenity45, 'Homogeneity90': homogenity90, 'Homogeneity135': homogenity135,\n",
    "        'Dissimilarity0': dissimilarity0, 'Dissimilarity45': dissimilarity45, 'Dissimilarity90': dissimilarity90, 'Dissimilarity135': dissimilarity135,\n",
    "        'Entropy0': entropy0, 'Entropy45': entropy45, 'Entropy90': entropy90, 'Entropy135': entropy135,\n",
    "        'ASM0': ASM0, 'ASM45': ASM45, 'ASM90': ASM90, 'ASM135': ASM135,\n",
    "        'Energy0': energy0, 'Energy45': energy45, 'Energy90': energy90, 'Energy135': energy135,\n",
    "        'Correlation0': correlation0, 'Correlation45': correlation45, 'Correlation90': correlation90, 'Correlation135': correlation135,\n",
    "        }\n",
    "df = pd.DataFrame(dataTable)\n",
    "df.to_csv('hasil_ekstraksi_1.csv', index=False)\n",
    "\n",
    "hasilEkstrak = pd.read_csv('hasil_ekstraksi_1.csv')\n",
    "hasilEkstrak\n"
   ]
  },
  {
   "cell_type": "markdown",
   "metadata": {},
   "source": [
    "### Features Selection"
   ]
  },
  {
   "cell_type": "markdown",
   "metadata": {},
   "source": [
    "pada bagian seleksi fitur ini bisa menggunakan metode seperti\n",
    "- PCA\n",
    "- LDA\n",
    "- t-SNE\n",
    "- Chi-square\n",
    "- ANOVA\n",
    "- Autoencoder\n",
    "- correlation\n",
    "- dll\n",
    "\n",
    "berikut contoh menggunakan correlation:"
   ]
  },
  {
   "cell_type": "markdown",
   "metadata": {},
   "source": [
    "Script di bawah digunakan untuk melakukan seleksi fitur dengan cara menghilangkan fitur-fitur yang memiliki korelasi sangat tinggi (lebih dari 0.95) satu sama lain, sehingga hanya fitur yang unik dan tidak redundant yang dipilih. Pertama, kode menghitung matriks korelasi antar fitur (tanpa label dan nama file), lalu menandai fitur yang korelasinya sangat tinggi agar tidak dipilih ganda. Hasil seleksi fitur disimpan ke variabel x_new, sedangkan label ke y. Terakhir, korelasi antar fitur yang terpilih divisualisasikan dalam bentuk heatmap agar mudah dianalisis."
   ]
  },
  {
   "cell_type": "code",
   "execution_count": 24,
   "metadata": {},
   "outputs": [
    {
     "data": {
      "text/plain": [
       "<Axes: >"
      ]
     },
     "execution_count": 24,
     "metadata": {},
     "output_type": "execute_result"
    },
    {
     "data": {
      "image/png": "[encoded data removed]",
      "text/plain": [
       "<Figure size 1700x1700 with 2 Axes>"
      ]
     },
     "metadata": {},
     "output_type": "display_data"
    }
   ],
   "source": [
    "# Menghitung korelasi\n",
    "correlation = hasilEkstrak.drop(columns=['Label','Filename']).corr()\n",
    "\n",
    "# Menyaring fitur yang memiliki korelasi absolut lebih dari 0.95 dengan label\n",
    "threshold = 0.95\n",
    "selectionFeature = []\n",
    "columns = np.full((correlation.shape[0],), True, dtype=bool)\n",
    "for i in range(correlation.shape[0]):\n",
    "\tfor j in range(i+1, correlation.shape[0]):\n",
    "\t\tif correlation.iloc[i,j] >= threshold:\n",
    "\t\t\tif columns[j]:\n",
    "\t\t\t\tcolumns[j] = False\n",
    "select = hasilEkstrak.drop(columns=['Label','Filename']).columns[columns]\n",
    "x_new = hasilEkstrak[select]\n",
    "x_new\n",
    "y = hasilEkstrak['Label']\n",
    "plt.figure(figsize=(17,17))\n",
    "sns.heatmap(x_new.corr(), annot=True, cmap='Blues', fmt=\".2f\")"
   ]
  },
  {
   "cell_type": "markdown",
   "metadata": {},
   "source": [
    "## Splitting Data"
   ]
  },
  {
   "cell_type": "markdown",
   "metadata": {},
   "source": [
    "Script di bawah digunakan untuk membagi data fitur (x_new) dan label (y) menjadi data latih (train) dan data uji (test) dengan proporsi 80% untuk training dan 20% untuk testing. Fungsi train_test_split dari scikit-learn digunakan untuk melakukan pembagian ini secara acak namun tetap konsisten karena menggunakan random_state=42. Setelah data dibagi, bentuk (jumlah baris dan kolom) dari data training dan testing ditampilkan menggunakan print(X_train.shape) dan print(X_test.shape)."
   ]
  },
  {
   "cell_type": "code",
   "execution_count": 25,
   "metadata": {},
   "outputs": [
    {
     "name": "stdout",
     "output_type": "stream",
     "text": [
      "(113, 9)\n",
      "(29, 9)\n"
     ]
    }
   ],
   "source": [
    "# ubah bagian test_size sesuai kebutuhan\n",
    "# 0.3 = 30% data untuk testing (train/test 70/30)\n",
    "# 0.2 = 20% data untuk testing (train/test 80/20)\n",
    "X_train, X_test, y_train, y_test = train_test_split(x_new, y, test_size=0.2, random_state=42)\n",
    "print(X_train.shape)\n",
    "print(X_test.shape)"
   ]
  },
  {
   "cell_type": "markdown",
   "metadata": {},
   "source": [
    "## Feature Normalization"
   ]
  },
  {
   "cell_type": "markdown",
   "metadata": {},
   "source": [
    "berikut metode normalisasi yang bisa digunakan:\n",
    "- Min-Max Scaling\n",
    "- Standardization (Z-score)\n",
    "- Robust Scaling\n",
    "- MaxAbsScaler\n",
    "- dll\n",
    "\n",
    "berikut contoh menggunakan Standardization (Z-score):"
   ]
  },
  {
   "cell_type": "code",
   "execution_count": 26,
   "metadata": {},
   "outputs": [],
   "source": [
    "# normalisasi mean std\n",
    "X_test = (X_test - X_train.mean()) / X_train.std()\n",
    "X_train = (X_train - X_train.mean()) / X_train.std()"
   ]
  },
  {
   "cell_type": "markdown",
   "metadata": {},
   "source": [
    "Script di atas digunakan untuk melakukan normalisasi data fitur menggunakan metode standardisasi (Z-score), yaitu dengan mengurangi setiap nilai fitur pada data uji (X_test) dan data latih (X_train) dengan rata-rata (mean) data latih, lalu membaginya dengan standar deviasi (std) data latih. Tujuannya agar setiap fitur memiliki distribusi dengan rata-rata 0 dan standar deviasi 1, sehingga model machine learning dapat bekerja lebih optimal dan tidak bias terhadap fitur dengan skala yang lebih besar."
   ]
  },
  {
   "cell_type": "markdown",
   "metadata": {},
   "source": [
    "## Modeling"
   ]
  },
  {
   "cell_type": "markdown",
   "metadata": {},
   "source": [
    "### Define Model"
   ]
  },
  {
   "cell_type": "code",
   "execution_count": 27,
   "metadata": {},
   "outputs": [],
   "source": [
    "def generateClassificationReport(y_true, y_pred):\n",
    "\tprint(classification_report(y_true, y_pred))\n",
    "\tprint(confusion_matrix(y_true, y_pred))\n",
    "\tprint('Accuracy:', accuracy_score(y_true, y_pred))\n",
    "\n",
    "# Define classifiers\n",
    "rf = RandomForestClassifier(n_estimators=5, random_state=42)\n",
    "svm = SVC(kernel='rbf', random_state=42)\n",
    "knn = KNeighborsClassifier(n_neighbors=5)"
   ]
  },
  {
   "cell_type": "markdown",
   "metadata": {},
   "source": [
    "Script di atas ini digunakan untuk mendefinisikan fungsi generateClassificationReport yang digunakan untuk menampilkan hasil evaluasi model klasifikasi, yaitu classification report (precision, recall, f1-score), confusion matrix, dan nilai akurasi. Setelah itu, kode juga mendefinisikan tiga model klasifikasi yang akan digunakan, yaitu Random Forest (rf), Support Vector Machine (svm), dan K-Nearest Neighbors (knn) dengan parameter dasar yang umum digunakan. Ketiga model ini nantinya akan dilatih dan dievaluasi pada data yang sudah diproses."
   ]
  },
  {
   "cell_type": "markdown",
   "metadata": {},
   "source": [
    "### Train Random Forest Classifier"
   ]
  },
  {
   "cell_type": "markdown",
   "metadata": {},
   "source": [
    "Script di bawah ini digunakan untuk melatih model Random Forest (rf) menggunakan data latih (X_train, y_train). Setelah model dilatih, dilakukan prediksi pada data latih untuk mengevaluasi performa model terhadap data yang sudah dikenal, lalu hasil evaluasinya ditampilkan dengan fungsi generateClassificationReport. Selanjutnya, model juga diuji pada data uji (X_test) untuk melihat performa pada data yang belum pernah dilihat sebelumnya, dan hasil evaluasinya juga ditampilkan. Dengan cara ini, kamu bisa membandingkan akurasi dan metrik lain antara data latih dan data uji untuk mengetahui apakah model mengalami overfitting atau tidak."
   ]
  },
  {
   "cell_type": "code",
   "execution_count": 28,
   "metadata": {},
   "outputs": [
    {
     "name": "stdout",
     "output_type": "stream",
     "text": [
      "------Training Set------\n",
      "              precision    recall  f1-score   support\n",
      "\n",
      " NormalFinal       0.96      0.98      0.97        55\n",
      "   ScolFinal       0.98      0.97      0.97        58\n",
      "\n",
      "    accuracy                           0.97       113\n",
      "   macro avg       0.97      0.97      0.97       113\n",
      "weighted avg       0.97      0.97      0.97       113\n",
      "\n",
      "[[54  1]\n",
      " [ 2 56]]\n",
      "Accuracy: 0.9734513274336283\n",
      "\n",
      "------Testing Set------\n",
      "              precision    recall  f1-score   support\n",
      "\n",
      " NormalFinal       1.00      0.94      0.97        16\n",
      "   ScolFinal       0.93      1.00      0.96        13\n",
      "\n",
      "    accuracy                           0.97        29\n",
      "   macro avg       0.96      0.97      0.97        29\n",
      "weighted avg       0.97      0.97      0.97        29\n",
      "\n",
      "[[15  1]\n",
      " [ 0 13]]\n",
      "Accuracy: 0.9655172413793104\n"
     ]
    }
   ],
   "source": [
    "# Train Random Forest Classifier\n",
    "rf.fit(X_train, y_train)\n",
    "\n",
    "# Make predictions and evaluate the model with the training set\n",
    "print(\"------Training Set------\")\n",
    "y_pred = rf.predict(X_train)\n",
    "generateClassificationReport( y_train, y_pred)\n",
    "\n",
    "# Make predictions and evaluate the model with the testing set\n",
    "print(\"\\n------Testing Set------\")\n",
    "y_pred = rf.predict(X_test)\n",
    "generateClassificationReport( y_test, y_pred)"
   ]
  },
  {
   "cell_type": "markdown",
   "metadata": {},
   "source": [
    "### Train SVM Classifier"
   ]
  },
  {
   "cell_type": "markdown",
   "metadata": {},
   "source": [
    "Script di bawah ini digunakan untuk melatih model Support Vector Machine (svm) menggunakan data latih (X_train, y_train). Setelah model dilatih, dilakukan prediksi pada data latih untuk mengevaluasi performa model terhadap data yang sudah dikenal, lalu hasil evaluasinya ditampilkan dengan fungsi generateClassificationReport. Selanjutnya, model juga diuji pada data uji (X_test) untuk melihat performa pada data yang belum pernah dilihat sebelumnya, dan hasil evaluasinya juga ditampilkan. Ini membantu membandingkan performa model pada data latih dan data uji."
   ]
  },
  {
   "cell_type": "code",
   "execution_count": 29,
   "metadata": {},
   "outputs": [
    {
     "name": "stdout",
     "output_type": "stream",
     "text": [
      "\n",
      "------Training Set------\n",
      "              precision    recall  f1-score   support\n",
      "\n",
      " NormalFinal       0.77      0.91      0.83        55\n",
      "   ScolFinal       0.90      0.74      0.81        58\n",
      "\n",
      "    accuracy                           0.82       113\n",
      "   macro avg       0.83      0.83      0.82       113\n",
      "weighted avg       0.83      0.82      0.82       113\n",
      "\n",
      "[[50  5]\n",
      " [15 43]]\n",
      "Accuracy: 0.8230088495575221\n",
      "\n",
      "------Testing Set------\n",
      "              precision    recall  f1-score   support\n",
      "\n",
      " NormalFinal       0.89      1.00      0.94        16\n",
      "   ScolFinal       1.00      0.85      0.92        13\n",
      "\n",
      "    accuracy                           0.93        29\n",
      "   macro avg       0.94      0.92      0.93        29\n",
      "weighted avg       0.94      0.93      0.93        29\n",
      "\n",
      "[[16  0]\n",
      " [ 2 11]]\n",
      "Accuracy: 0.9310344827586207\n"
     ]
    }
   ],
   "source": [
    "# Train SVM Classifier\n",
    "svm.fit(X_train, y_train)\n",
    "\n",
    "# Make predictions and evaluate the model with the training set\n",
    "print(\"\\n------Training Set------\")\n",
    "y_pred = svm.predict(X_train)\n",
    "generateClassificationReport( y_train, y_pred)\n",
    "\n",
    "# Make predictions and evaluate the model with the testing set\n",
    "print(\"\\n------Testing Set------\")\n",
    "y_pred = svm.predict(X_test)\n",
    "generateClassificationReport( y_test, y_pred)"
   ]
  },
  {
   "cell_type": "markdown",
   "metadata": {},
   "source": [
    "### Train KNN Classifier"
   ]
  },
  {
   "cell_type": "markdown",
   "metadata": {},
   "source": [
    "Script di bawah ini digunakan untuk melatih model K-Nearest Neighbors (knn) pada data latih, lalu mengevaluasi performa model pada data latih dan data uji menggunakan fungsi generateClassificationReport. Hasil evaluasi akan menampilkan classification report, confusion matrix, dan akurasi untuk masing-masing data."
   ]
  },
  {
   "cell_type": "code",
   "execution_count": 30,
   "metadata": {},
   "outputs": [
    {
     "name": "stdout",
     "output_type": "stream",
     "text": [
      "\n",
      "------Training Set------\n",
      "              precision    recall  f1-score   support\n",
      "\n",
      " NormalFinal       0.84      0.85      0.85        55\n",
      "   ScolFinal       0.86      0.84      0.85        58\n",
      "\n",
      "    accuracy                           0.85       113\n",
      "   macro avg       0.85      0.85      0.85       113\n",
      "weighted avg       0.85      0.85      0.85       113\n",
      "\n",
      "[[47  8]\n",
      " [ 9 49]]\n",
      "Accuracy: 0.8495575221238938\n",
      "\n",
      "------Testing Set------\n",
      "              precision    recall  f1-score   support\n",
      "\n",
      " NormalFinal       0.87      0.81      0.84        16\n",
      "   ScolFinal       0.79      0.85      0.81        13\n",
      "\n",
      "    accuracy                           0.83        29\n",
      "   macro avg       0.83      0.83      0.83        29\n",
      "weighted avg       0.83      0.83      0.83        29\n",
      "\n",
      "[[13  3]\n",
      " [ 2 11]]\n",
      "Accuracy: 0.8275862068965517\n"
     ]
    }
   ],
   "source": [
    "# Train KNN Classifier\n",
    "knn.fit(X_train, y_train)\n",
    "\n",
    "# Make predictions and evaluate the model with the training set\n",
    "print(\"\\n------Training Set------\")\n",
    "y_pred = knn.predict(X_train)\n",
    "generateClassificationReport( y_train, y_pred)\n",
    "\n",
    "# Make predictions and evaluate the model with the testing set\n",
    "print(\"\\n------Testing Set------\")\n",
    "y_pred = knn.predict(X_test)\n",
    "generateClassificationReport( y_test, y_pred)\n"
   ]
  },
  {
   "cell_type": "markdown",
   "metadata": {},
   "source": [
    "## Evaluation With Confusion Matrix"
   ]
  },
  {
   "cell_type": "markdown",
   "metadata": {},
   "source": [
    "Script di bawah ini digunakan untuk menampilkan confusion matrix dari hasil prediksi model klasifikasi. Fungsi plot_confusion_matrix menerima label asli (y_true), label prediksi (y_pred), dan judul plot, lalu menampilkan confusion matrix menggunakan warna biru. Fungsi ini kemudian dipanggil untuk tiga model berbeda (Random Forest, SVM, dan KNN) untuk membandingkan performa masing-masing model pada data uji (X_test)."
   ]
  },
  {
   "cell_type": "code",
   "execution_count": 31,
   "metadata": {},
   "outputs": [
    {
     "data": {
      "image/png": "[encoded data removed]",
      "text/plain": [
       "<Figure size 640x480 with 2 Axes>"
      ]
     },
     "metadata": {},
     "output_type": "display_data"
    },
    {
     "data": {
      "image/png": "[encoded data removed]",
      "text/plain": [
       "<Figure size 640x480 with 2 Axes>"
      ]
     },
     "metadata": {},
     "output_type": "display_data"
    },
    {
     "data": {
      "image/png": "[encoded data removed]",
      "text/plain": [
       "<Figure size 640x480 with 2 Axes>"
      ]
     },
     "metadata": {},
     "output_type": "display_data"
    }
   ],
   "source": [
    "def plot_confusion_matrix(y_true, y_pred, title):\n",
    "    cm = confusion_matrix(y_true, y_pred)\n",
    "    disp = ConfusionMatrixDisplay(confusion_matrix=cm)\n",
    "    disp.plot(cmap=plt.cm.Blues)\n",
    "    plt.title(title)\n",
    "    plt.show()\n",
    "\n",
    "# Plot confusion matrix for Random Forest\n",
    "plot_confusion_matrix(y_test, rf.predict(X_test), \"Random Forest Confusion Matrix\")\n",
    "# Plot confusion matrix for SVM\n",
    "plot_confusion_matrix(y_test, svm.predict(X_test), \"SVM Confusion Matrix\")\n",
    "# Plot confusion matrix for KNN\n",
    "plot_confusion_matrix(y_test, knn.predict(X_test), \"KNN Confusion Matrix\")"
   ]
  }
 ],
 "metadata": {
  "kernelspec": {
   "display_name": "Python 3",
   "language": "python",
   "name": "python3"
  },
  "language_info": {
   "codemirror_mode": {
    "name": "ipython",
    "version": 3
   },
   "file_extension": ".py",
   "mimetype": "text/x-python",
   "name": "python",
   "nbconvert_exporter": "python",
   "pygments_lexer": "ipython3",
   "version": "3.11.9"
  }
 },
 "nbformat": 4,
 "nbformat_minor": 2
}
